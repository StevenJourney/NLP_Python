{
 "cells": [
  {
   "cell_type": "markdown",
   "metadata": {
    "id": "Y4Qiw872tJm5"
   },
   "source": [
    "### **spacy_text_classification : Exercise**\n",
    "\n",
    "\n",
    "- In this exercise, you are going to classify whether a given text belongs to one of possible classes ['BUSINESS', 'SPORTS', 'CRIME'].\n",
    "\n",
    "- you are going to use spacy for pre-processing the text, convert text to numbers and apply different classification algorithms."
   ]
  },
  {
   "cell_type": "code",
   "execution_count": 1,
   "metadata": {
    "colab": {
     "base_uri": "https://localhost:8080/"
    },
    "id": "7bitKkWZnWGe",
    "outputId": "4779b05e-0078-4389-a57f-8cab8b9aa8ee"
   },
   "outputs": [],
   "source": [
    "#uncomment the below line and run this cell to install the large english model which is trained on wikipedia data\n",
    "\n",
    "# !python -m spacy download en_core_web_lg"
   ]
  },
  {
   "cell_type": "code",
   "execution_count": 2,
   "metadata": {
    "id": "nfwmJvdDnWIq"
   },
   "outputs": [],
   "source": [
    "#import spacy and load the language model downloaded\n",
    "\n",
    "\n",
    "import spacy\n",
    "\n",
    "nlp = spacy.load(\"en_core_web_lg\")"
   ]
  },
  {
   "cell_type": "markdown",
   "metadata": {
    "id": "fOfdVUDOwC4y"
   },
   "source": [
    "### **About Data: News Category Classifier**\n",
    "\n",
    "Credits: https://www.kaggle.com/code/hengzheng/news-category-classifier-val-acc-0-65\n",
    "\n",
    "\n",
    "- This data consists of two columns.\n",
    "        - Text\n",
    "        - Category\n",
    "- Text are the description about a particular topic.\n",
    "- Category determine which class the text belongs to.\n",
    "- we have classes mainly of 'BUSINESS', 'SPORTS', 'CRIME' and comes under **Multi-class** classification Problem."
   ]
  },
  {
   "cell_type": "code",
   "execution_count": 5,
   "metadata": {
    "colab": {
     "base_uri": "https://localhost:8080/",
     "height": 224
    },
    "id": "qA7qNgVenWL7",
    "outputId": "3f41a23c-af84-4774-9379-3247074a0084"
   },
   "outputs": [
    {
     "name": "stdout",
     "output_type": "stream",
     "text": [
      "(7500, 2)\n"
     ]
    },
    {
     "data": {
      "text/html": [
       "<div>\n",
       "<style scoped>\n",
       "    .dataframe tbody tr th:only-of-type {\n",
       "        vertical-align: middle;\n",
       "    }\n",
       "\n",
       "    .dataframe tbody tr th {\n",
       "        vertical-align: top;\n",
       "    }\n",
       "\n",
       "    .dataframe thead th {\n",
       "        text-align: right;\n",
       "    }\n",
       "</style>\n",
       "<table border=\"1\" class=\"dataframe\">\n",
       "  <thead>\n",
       "    <tr style=\"text-align: right;\">\n",
       "      <th></th>\n",
       "      <th>text</th>\n",
       "      <th>category</th>\n",
       "    </tr>\n",
       "  </thead>\n",
       "  <tbody>\n",
       "    <tr>\n",
       "      <th>0</th>\n",
       "      <td>Larry Nassar Blames His Victims, Says He 'Was ...</td>\n",
       "      <td>CRIME</td>\n",
       "    </tr>\n",
       "    <tr>\n",
       "      <th>1</th>\n",
       "      <td>Woman Beats Cancer, Dies Falling From Horse</td>\n",
       "      <td>CRIME</td>\n",
       "    </tr>\n",
       "    <tr>\n",
       "      <th>2</th>\n",
       "      <td>Vegas Taxpayers Could Spend A Record $750 Mill...</td>\n",
       "      <td>SPORTS</td>\n",
       "    </tr>\n",
       "    <tr>\n",
       "      <th>3</th>\n",
       "      <td>This Richard Sherman Interception Literally Sh...</td>\n",
       "      <td>SPORTS</td>\n",
       "    </tr>\n",
       "    <tr>\n",
       "      <th>4</th>\n",
       "      <td>7 Things That Could Totally Kill Weed Legaliza...</td>\n",
       "      <td>BUSINESS</td>\n",
       "    </tr>\n",
       "  </tbody>\n",
       "</table>\n",
       "</div>"
      ],
      "text/plain": [
       "                                                text  category\n",
       "0  Larry Nassar Blames His Victims, Says He 'Was ...     CRIME\n",
       "1       Woman Beats Cancer, Dies Falling From Horse      CRIME\n",
       "2  Vegas Taxpayers Could Spend A Record $750 Mill...    SPORTS\n",
       "3  This Richard Sherman Interception Literally Sh...    SPORTS\n",
       "4  7 Things That Could Totally Kill Weed Legaliza...  BUSINESS"
      ]
     },
     "execution_count": 5,
     "metadata": {},
     "output_type": "execute_result"
    }
   ],
   "source": [
    "#import pandas library\n",
    "import pandas as pd\n",
    "\n",
    "\n",
    "#read the dataset \"news_dataset.json\" provided and load it into dataframe \"df\"\n",
    "df = pd.read_json('news_dataset.json')\n",
    "\n",
    "\n",
    "#print the shape of data\n",
    "print(df.shape)\n",
    "\n",
    "#print the top5 rows\n",
    "df.head()\n"
   ]
  },
  {
   "cell_type": "code",
   "execution_count": 8,
   "metadata": {
    "colab": {
     "base_uri": "https://localhost:8080/"
    },
    "id": "8uMg291enWN0",
    "outputId": "fabf1b28-09f7-4aed-b43d-dc7d3365e321"
   },
   "outputs": [
    {
     "data": {
      "text/plain": [
       "category\n",
       "CRIME       2500\n",
       "SPORTS      2500\n",
       "BUSINESS    2500\n",
       "Name: count, dtype: int64"
      ]
     },
     "execution_count": 8,
     "metadata": {},
     "output_type": "execute_result"
    }
   ],
   "source": [
    "#check the distribution of labels \n",
    "df['category'].value_counts()\n"
   ]
  },
  {
   "cell_type": "code",
   "execution_count": 9,
   "metadata": {
    "colab": {
     "base_uri": "https://localhost:8080/",
     "height": 206
    },
    "id": "rPu41FMfnWRc",
    "outputId": "0928da61-f016-4091-bc2a-0c9e447eccf5"
   },
   "outputs": [
    {
     "data": {
      "text/html": [
       "<div>\n",
       "<style scoped>\n",
       "    .dataframe tbody tr th:only-of-type {\n",
       "        vertical-align: middle;\n",
       "    }\n",
       "\n",
       "    .dataframe tbody tr th {\n",
       "        vertical-align: top;\n",
       "    }\n",
       "\n",
       "    .dataframe thead th {\n",
       "        text-align: right;\n",
       "    }\n",
       "</style>\n",
       "<table border=\"1\" class=\"dataframe\">\n",
       "  <thead>\n",
       "    <tr style=\"text-align: right;\">\n",
       "      <th></th>\n",
       "      <th>text</th>\n",
       "      <th>category</th>\n",
       "      <th>Label_num</th>\n",
       "    </tr>\n",
       "  </thead>\n",
       "  <tbody>\n",
       "    <tr>\n",
       "      <th>0</th>\n",
       "      <td>Larry Nassar Blames His Victims, Says He 'Was ...</td>\n",
       "      <td>CRIME</td>\n",
       "      <td>0</td>\n",
       "    </tr>\n",
       "    <tr>\n",
       "      <th>1</th>\n",
       "      <td>Woman Beats Cancer, Dies Falling From Horse</td>\n",
       "      <td>CRIME</td>\n",
       "      <td>0</td>\n",
       "    </tr>\n",
       "    <tr>\n",
       "      <th>2</th>\n",
       "      <td>Vegas Taxpayers Could Spend A Record $750 Mill...</td>\n",
       "      <td>SPORTS</td>\n",
       "      <td>1</td>\n",
       "    </tr>\n",
       "    <tr>\n",
       "      <th>3</th>\n",
       "      <td>This Richard Sherman Interception Literally Sh...</td>\n",
       "      <td>SPORTS</td>\n",
       "      <td>1</td>\n",
       "    </tr>\n",
       "    <tr>\n",
       "      <th>4</th>\n",
       "      <td>7 Things That Could Totally Kill Weed Legaliza...</td>\n",
       "      <td>BUSINESS</td>\n",
       "      <td>2</td>\n",
       "    </tr>\n",
       "  </tbody>\n",
       "</table>\n",
       "</div>"
      ],
      "text/plain": [
       "                                                text  category  Label_num\n",
       "0  Larry Nassar Blames His Victims, Says He 'Was ...     CRIME          0\n",
       "1       Woman Beats Cancer, Dies Falling From Horse      CRIME          0\n",
       "2  Vegas Taxpayers Could Spend A Record $750 Mill...    SPORTS          1\n",
       "3  This Richard Sherman Interception Literally Sh...    SPORTS          1\n",
       "4  7 Things That Could Totally Kill Weed Legaliza...  BUSINESS          2"
      ]
     },
     "execution_count": 9,
     "metadata": {},
     "output_type": "execute_result"
    }
   ],
   "source": [
    "#Add the new column \"label_num\" which gives a unique number to each of these labels \n",
    "df['Label_num'] = df['category'].map({\n",
    "    'CRIME' : 0,\n",
    "    'SPORTS' : 1,\n",
    "    'BUSINESS' : 2\n",
    "})\n",
    "\n",
    "\n",
    "#check the results with top 5 rows\n",
    "df.head()"
   ]
  },
  {
   "cell_type": "markdown",
   "metadata": {
    "id": "7MChU23cwy2u"
   },
   "source": [
    "### **Preprocess the text**"
   ]
  },
  {
   "cell_type": "code",
   "execution_count": 10,
   "metadata": {
    "id": "gg2NzymmqRMG"
   },
   "outputs": [],
   "source": [
    "#use this utility function to preprocess the text\n",
    "#1. Remove the stop words\n",
    "#2. Convert to base form using lemmatisation\n",
    "\n",
    "def preprocess(text):\n",
    "    doc = nlp(text)\n",
    "    filtered_tokens = []\n",
    "    for token in doc:\n",
    "        if token.is_stop or token.is_punct:\n",
    "            continue\n",
    "        filtered_tokens.append(token.lemma_)\n",
    "    return ' '.join(filtered_tokens)"
   ]
  },
  {
   "cell_type": "code",
   "execution_count": 11,
   "metadata": {
    "id": "TvMxzat8qtPb"
   },
   "outputs": [],
   "source": [
    "#create a new column \"preprocessed_text\" which store the clean form of given text [use apply and lambda function]\n",
    "\n",
    "df['preprocessed_text'] = df['text'].apply(preprocess)"
   ]
  },
  {
   "cell_type": "code",
   "execution_count": 12,
   "metadata": {
    "colab": {
     "base_uri": "https://localhost:8080/",
     "height": 206
    },
    "id": "UN7vG1Gqq2Kv",
    "outputId": "186e1189-816b-4650-9e38-a12b9bc8e1bc"
   },
   "outputs": [
    {
     "data": {
      "text/html": [
       "<div>\n",
       "<style scoped>\n",
       "    .dataframe tbody tr th:only-of-type {\n",
       "        vertical-align: middle;\n",
       "    }\n",
       "\n",
       "    .dataframe tbody tr th {\n",
       "        vertical-align: top;\n",
       "    }\n",
       "\n",
       "    .dataframe thead th {\n",
       "        text-align: right;\n",
       "    }\n",
       "</style>\n",
       "<table border=\"1\" class=\"dataframe\">\n",
       "  <thead>\n",
       "    <tr style=\"text-align: right;\">\n",
       "      <th></th>\n",
       "      <th>text</th>\n",
       "      <th>category</th>\n",
       "      <th>Label_num</th>\n",
       "      <th>preprocessed_text</th>\n",
       "    </tr>\n",
       "  </thead>\n",
       "  <tbody>\n",
       "    <tr>\n",
       "      <th>0</th>\n",
       "      <td>Larry Nassar Blames His Victims, Says He 'Was ...</td>\n",
       "      <td>CRIME</td>\n",
       "      <td>0</td>\n",
       "      <td>Larry Nassar blame victim say victimize newly ...</td>\n",
       "    </tr>\n",
       "    <tr>\n",
       "      <th>1</th>\n",
       "      <td>Woman Beats Cancer, Dies Falling From Horse</td>\n",
       "      <td>CRIME</td>\n",
       "      <td>0</td>\n",
       "      <td>woman Beats Cancer die fall horse</td>\n",
       "    </tr>\n",
       "    <tr>\n",
       "      <th>2</th>\n",
       "      <td>Vegas Taxpayers Could Spend A Record $750 Mill...</td>\n",
       "      <td>SPORTS</td>\n",
       "      <td>1</td>\n",
       "      <td>vegas taxpayer spend Record $ 750 million New ...</td>\n",
       "    </tr>\n",
       "    <tr>\n",
       "      <th>3</th>\n",
       "      <td>This Richard Sherman Interception Literally Sh...</td>\n",
       "      <td>SPORTS</td>\n",
       "      <td>1</td>\n",
       "      <td>Richard Sherman Interception literally shake W...</td>\n",
       "    </tr>\n",
       "    <tr>\n",
       "      <th>4</th>\n",
       "      <td>7 Things That Could Totally Kill Weed Legaliza...</td>\n",
       "      <td>BUSINESS</td>\n",
       "      <td>2</td>\n",
       "      <td>7 thing totally kill Weed Legalization Buzz</td>\n",
       "    </tr>\n",
       "  </tbody>\n",
       "</table>\n",
       "</div>"
      ],
      "text/plain": [
       "                                                text  category  Label_num  \\\n",
       "0  Larry Nassar Blames His Victims, Says He 'Was ...     CRIME          0   \n",
       "1       Woman Beats Cancer, Dies Falling From Horse      CRIME          0   \n",
       "2  Vegas Taxpayers Could Spend A Record $750 Mill...    SPORTS          1   \n",
       "3  This Richard Sherman Interception Literally Sh...    SPORTS          1   \n",
       "4  7 Things That Could Totally Kill Weed Legaliza...  BUSINESS          2   \n",
       "\n",
       "                                   preprocessed_text  \n",
       "0  Larry Nassar blame victim say victimize newly ...  \n",
       "1                  woman Beats Cancer die fall horse  \n",
       "2  vegas taxpayer spend Record $ 750 million New ...  \n",
       "3  Richard Sherman Interception literally shake W...  \n",
       "4        7 thing totally kill Weed Legalization Buzz  "
      ]
     },
     "execution_count": 12,
     "metadata": {},
     "output_type": "execute_result"
    }
   ],
   "source": [
    "#print the top 5 rows\n",
    "df.head()"
   ]
  },
  {
   "cell_type": "markdown",
   "metadata": {
    "id": "gMT8vW6lxUCH"
   },
   "source": [
    "### **Get the spacy embeddings for each preprocessed text**"
   ]
  },
  {
   "cell_type": "code",
   "execution_count": 13,
   "metadata": {
    "id": "Totfo3RinWTQ"
   },
   "outputs": [],
   "source": [
    "#create a new column \"vector\" that store the vector representation of each pre-processed text\n",
    "\n",
    "df['vector'] = df['preprocessed_text'].apply(lambda x: nlp(x).vector)"
   ]
  },
  {
   "cell_type": "code",
   "execution_count": 14,
   "metadata": {
    "colab": {
     "base_uri": "https://localhost:8080/",
     "height": 206
    },
    "id": "o6xPUWyFnWW0",
    "outputId": "b8c347c3-98ce-40ea-c51a-d4f0596b2d0d"
   },
   "outputs": [
    {
     "data": {
      "text/html": [
       "<div>\n",
       "<style scoped>\n",
       "    .dataframe tbody tr th:only-of-type {\n",
       "        vertical-align: middle;\n",
       "    }\n",
       "\n",
       "    .dataframe tbody tr th {\n",
       "        vertical-align: top;\n",
       "    }\n",
       "\n",
       "    .dataframe thead th {\n",
       "        text-align: right;\n",
       "    }\n",
       "</style>\n",
       "<table border=\"1\" class=\"dataframe\">\n",
       "  <thead>\n",
       "    <tr style=\"text-align: right;\">\n",
       "      <th></th>\n",
       "      <th>text</th>\n",
       "      <th>category</th>\n",
       "      <th>Label_num</th>\n",
       "      <th>preprocessed_text</th>\n",
       "      <th>vector</th>\n",
       "    </tr>\n",
       "  </thead>\n",
       "  <tbody>\n",
       "    <tr>\n",
       "      <th>0</th>\n",
       "      <td>Larry Nassar Blames His Victims, Says He 'Was ...</td>\n",
       "      <td>CRIME</td>\n",
       "      <td>0</td>\n",
       "      <td>Larry Nassar blame victim say victimize newly ...</td>\n",
       "      <td>[-0.5585511, -0.29323253, -0.9253956, 0.189389...</td>\n",
       "    </tr>\n",
       "    <tr>\n",
       "      <th>1</th>\n",
       "      <td>Woman Beats Cancer, Dies Falling From Horse</td>\n",
       "      <td>CRIME</td>\n",
       "      <td>0</td>\n",
       "      <td>woman Beats Cancer die fall horse</td>\n",
       "      <td>[-0.73039824, -0.43196002, -1.2930516, -1.0628...</td>\n",
       "    </tr>\n",
       "    <tr>\n",
       "      <th>2</th>\n",
       "      <td>Vegas Taxpayers Could Spend A Record $750 Mill...</td>\n",
       "      <td>SPORTS</td>\n",
       "      <td>1</td>\n",
       "      <td>vegas taxpayer spend Record $ 750 million New ...</td>\n",
       "      <td>[-1.9413117, 0.121578515, -3.2996283, 1.511650...</td>\n",
       "    </tr>\n",
       "    <tr>\n",
       "      <th>3</th>\n",
       "      <td>This Richard Sherman Interception Literally Sh...</td>\n",
       "      <td>SPORTS</td>\n",
       "      <td>1</td>\n",
       "      <td>Richard Sherman Interception literally shake W...</td>\n",
       "      <td>[-1.4702771, -0.685319, 0.57398, -0.31135806, ...</td>\n",
       "    </tr>\n",
       "    <tr>\n",
       "      <th>4</th>\n",
       "      <td>7 Things That Could Totally Kill Weed Legaliza...</td>\n",
       "      <td>BUSINESS</td>\n",
       "      <td>2</td>\n",
       "      <td>7 thing totally kill Weed Legalization Buzz</td>\n",
       "      <td>[-1.037173, -1.9495698, -1.7179357, 1.2975286,...</td>\n",
       "    </tr>\n",
       "  </tbody>\n",
       "</table>\n",
       "</div>"
      ],
      "text/plain": [
       "                                                text  category  Label_num  \\\n",
       "0  Larry Nassar Blames His Victims, Says He 'Was ...     CRIME          0   \n",
       "1       Woman Beats Cancer, Dies Falling From Horse      CRIME          0   \n",
       "2  Vegas Taxpayers Could Spend A Record $750 Mill...    SPORTS          1   \n",
       "3  This Richard Sherman Interception Literally Sh...    SPORTS          1   \n",
       "4  7 Things That Could Totally Kill Weed Legaliza...  BUSINESS          2   \n",
       "\n",
       "                                   preprocessed_text  \\\n",
       "0  Larry Nassar blame victim say victimize newly ...   \n",
       "1                  woman Beats Cancer die fall horse   \n",
       "2  vegas taxpayer spend Record $ 750 million New ...   \n",
       "3  Richard Sherman Interception literally shake W...   \n",
       "4        7 thing totally kill Weed Legalization Buzz   \n",
       "\n",
       "                                              vector  \n",
       "0  [-0.5585511, -0.29323253, -0.9253956, 0.189389...  \n",
       "1  [-0.73039824, -0.43196002, -1.2930516, -1.0628...  \n",
       "2  [-1.9413117, 0.121578515, -3.2996283, 1.511650...  \n",
       "3  [-1.4702771, -0.685319, 0.57398, -0.31135806, ...  \n",
       "4  [-1.037173, -1.9495698, -1.7179357, 1.2975286,...  "
      ]
     },
     "execution_count": 14,
     "metadata": {},
     "output_type": "execute_result"
    }
   ],
   "source": [
    "#print the top 5 rows\n",
    "df.head()"
   ]
  },
  {
   "cell_type": "markdown",
   "metadata": {
    "id": "4Ok6jIl3yHmT"
   },
   "source": [
    "**Train-Test splitting**"
   ]
  },
  {
   "cell_type": "code",
   "execution_count": 16,
   "metadata": {
    "id": "FmVG4s2onWYz"
   },
   "outputs": [],
   "source": [
    "from sklearn.model_selection import train_test_split\n",
    "from sklearn.metrics import classification_report\n",
    "\n",
    "X_train, X_test, y_train, y_test = train_test_split(\n",
    "    df.vector,\n",
    "    df.Label_num,\n",
    "    test_size=0.2\n",
    ")\n",
    "\n"
   ]
  },
  {
   "cell_type": "code",
   "execution_count": 17,
   "metadata": {
    "scrolled": true
   },
   "outputs": [
    {
     "data": {
      "text/plain": [
       "(6000,)"
      ]
     },
     "execution_count": 17,
     "metadata": {},
     "output_type": "execute_result"
    }
   ],
   "source": [
    "X_train.shape"
   ]
  },
  {
   "cell_type": "code",
   "execution_count": 18,
   "metadata": {
    "scrolled": false
   },
   "outputs": [
    {
     "data": {
      "text/plain": [
       "(1500,)"
      ]
     },
     "execution_count": 18,
     "metadata": {},
     "output_type": "execute_result"
    }
   ],
   "source": [
    "X_test.shape"
   ]
  },
  {
   "cell_type": "code",
   "execution_count": 22,
   "metadata": {},
   "outputs": [
    {
     "data": {
      "text/plain": [
       "array([array([-0.0576425 ,  1.9392314 , -0.00823748, -1.2208    ,  1.8757765 ,\n",
       "               2.0483325 ,  0.84455496,  1.87069   , -0.22398752,  1.8244624 ,\n",
       "               3.482366  ,  0.9020875 , -1.242292  ,  2.0741925 ,  0.6830579 ,\n",
       "              -1.2232162 ,  2.1239088 , -0.35835785, -0.81437   , -0.6815485 ,\n",
       "              -0.2136    ,  0.7181238 , -0.85362124, -2.6352499 ,  0.47381544,\n",
       "              -1.13284   , -2.2687662 ,  0.44706497, -0.13036999,  2.1642938 ,\n",
       "               1.09474   ,  0.44874626,  0.61938155, -0.04235502, -1.347836  ,\n",
       "               0.17765002,  1.0942912 ,  0.97323865, -0.66928375,  0.3426376 ,\n",
       "              -0.22539374, -0.27435622, -0.09886202,  2.4479327 , -0.7356438 ,\n",
       "               0.7153975 , -0.27159876, -0.49100253,  0.22337502,  0.6387125 ,\n",
       "               0.05338499, -0.8297675 ,  0.7164774 , -2.0161564 ,  0.04799497,\n",
       "               0.44277537,  0.08174112, -0.79593253,  0.48049784,  2.4195879 ,\n",
       "               0.6458025 ,  0.02760249, -0.9236488 ,  0.5305775 ,  1.2083601 ,\n",
       "               2.1428263 , -2.5326562 , -1.3963649 ,  1.1751341 ,  0.45687497,\n",
       "               0.8504063 ,  1.0048    ,  0.9830662 , -0.83694494, -1.4899291 ,\n",
       "               1.0542874 , -2.1449175 ,  0.96166253,  1.209975  ,  0.45733377,\n",
       "              -2.8077626 ,  0.6116275 ,  0.28688997,  1.229555  ,  0.6665062 ,\n",
       "               0.15763506, -1.3156799 , -1.5521636 , -0.8910237 ,  0.2625201 ,\n",
       "              -0.567425  ,  0.017515  , -1.7973    , -2.7114625 , -1.170685  ,\n",
       "               0.24258623,  1.003165  , -1.3160663 , -0.5599089 , -0.5059543 ,\n",
       "               1.5887024 ,  0.1113925 ,  0.9174823 ,  1.1436213 , -2.2176976 ,\n",
       "               1.9294449 , -2.4865675 , -0.618425  , -0.29058236, -2.4527287 ,\n",
       "              -0.07280034, -0.88455135, -1.1433014 , -0.0904375 ,  1.622695  ,\n",
       "               1.7125001 , -2.4205964 , -2.1352224 , -0.11182511,  1.9384149 ,\n",
       "              -0.9082988 , -0.834303  ,  0.47801623, -0.54132247, -0.06848991,\n",
       "              -0.49734128,  2.1468248 , -0.2834887 , -0.06662744,  0.29792127,\n",
       "              -2.248651  ,  0.03752494,  1.2450006 , -0.87373126, -0.20200254,\n",
       "              -0.16503   , -2.5331264 ,  0.37193754,  0.33219993, -0.68600965,\n",
       "              -0.898485  ,  0.14468372,  0.61707836,  1.2746848 , -0.8857925 ,\n",
       "              -1.5334637 , -5.910138  , -0.44458246, -0.36582872,  0.7545762 ,\n",
       "              -0.7178036 , -0.35459962, -0.14707816,  0.81595504, -0.45741254,\n",
       "               1.2075062 ,  2.1033363 , -0.05107124, -0.17028871, -2.116555  ,\n",
       "              -1.1859564 , -1.82839   , -1.8276587 ,  0.66545874, -3.2717628 ,\n",
       "              -0.6918125 , -1.1588162 , -2.5836887 ,  0.8099388 , -1.272555  ,\n",
       "               0.67388445,  2.2274776 , -0.55894625, -0.29338753, -0.3740119 ,\n",
       "              -1.1132914 , -0.29851502,  0.9375975 ,  0.608025  , -2.8981364 ,\n",
       "               1.1968571 , -0.90323627,  0.7319337 ,  0.07062754, -0.5295887 ,\n",
       "               1.71972   , -1.3142606 , -1.345069  ,  1.6176627 ,  1.7750373 ,\n",
       "              -0.24127   ,  0.9189    , -0.544585  ,  1.0545843 ,  0.16178873,\n",
       "              -2.102075  , -1.0970325 ,  1.08815   , -1.4901787 ,  3.8173523 ,\n",
       "               0.76339495,  0.14520371, -1.6933813 , -1.5206926 ,  1.184605  ,\n",
       "               0.42311877, -0.6232428 , -0.40275502, -2.9828749 ,  1.2685499 ,\n",
       "              -0.06575626,  0.438025  , -1.316905  ,  0.8407475 , -1.6402687 ,\n",
       "              -0.21545124,  1.1628357 , -0.46912625,  0.1376501 , -2.100305  ,\n",
       "              -2.0419412 , -0.60826373, -0.8991613 ,  1.0629625 , -2.4627252 ,\n",
       "              -1.8221251 , -0.1267174 ,  2.0949626 ,  0.6338074 ,  1.4717226 ,\n",
       "              -0.40842104, -0.82832366, -1.0470659 ,  0.4278275 ,  1.100795  ,\n",
       "               0.7735563 , -1.6111475 ,  1.4997813 , -0.91135997,  0.37513074,\n",
       "              -1.8635976 ,  0.57513   , -0.62292504, -1.151875  ,  0.70933   ,\n",
       "              -0.1693825 , -1.4849751 ,  0.06293622,  1.1990749 , -0.01629487,\n",
       "              -1.486239  , -3.069161  , -2.4324265 , -0.09039046,  0.28442   ,\n",
       "              -2.3784876 ,  2.6724849 , -1.8251001 ,  0.8588894 ,  1.233485  ,\n",
       "               0.90260744, -0.28898263,  1.7019389 , -0.38592502,  0.32696873,\n",
       "              -1.2755165 , -1.5060608 ,  0.7594674 , -3.0054374 , -1.7893269 ,\n",
       "               0.29314125,  0.32727373, -0.259328  ,  0.98740005,  0.66423   ,\n",
       "              -2.4392052 , -0.34501734, -2.0935488 , -1.4586998 ,  0.86811244,\n",
       "              -1.0248063 , -0.3478703 ,  1.7951063 , -0.30650496,  2.54701   ,\n",
       "              -0.34202164,  0.5119225 ,  0.89863753, -2.2010074 , -1.0833812 ,\n",
       "               2.354825  , -2.8245502 , -0.13662748, -0.23533125,  0.7746663 ,\n",
       "              -0.8433361 ,  0.88495   , -0.6113337 , -1.1142124 ,  1.4414899 ],\n",
       "             dtype=float32)                                                    ,\n",
       "       array([ 0.3839881 , -0.33137017, -0.07083456, -0.02377551,  1.8944783 ,\n",
       "               0.8235336 ,  1.2173282 ,  0.75617814, -0.46463788, -1.0750918 ,\n",
       "               1.0331753 , -0.16678002, -1.0478882 ,  0.6972859 ,  0.469712  ,\n",
       "               0.31990364,  0.8091746 ,  0.49745643, -0.77499694,  0.0187654 ,\n",
       "              -1.3684764 ,  0.18184544,  0.19845937, -0.15802908,  0.6135006 ,\n",
       "               2.050559  , -1.2844173 , -0.7291296 ,  1.1961347 ,  0.89383626,\n",
       "               1.4585618 ,  1.7801318 ,  1.6399318 , -0.5745612 , -0.63005906,\n",
       "              -1.3389568 , -0.08328665,  0.95076716, -2.2277744 , -0.12573004,\n",
       "              -0.33749816, -0.393703  , -0.9992818 ,  1.2566173 , -0.38582546,\n",
       "              -1.2334136 , -1.2419173 , -0.72205544,  0.5299599 , -0.12673019,\n",
       "              -0.942169  ,  1.3008657 ,  1.4969712 , -0.57412267,  0.4049283 ,\n",
       "              -0.2261291 , -0.62383914, -1.5484347 ,  0.45425454,  1.4942044 ,\n",
       "              -1.3411918 ,  1.4222898 , -0.6676764 , -0.69582456,  1.5769379 ,\n",
       "               1.021399  , -1.153879  , -0.32379913,  2.0385935 ,  1.0541183 ,\n",
       "               0.79792714,  0.90339273, -1.2972989 ,  0.20263086, -0.35527912,\n",
       "              -0.25683272, -0.7262399 ,  0.34508368, -0.06332275,  1.6888145 ,\n",
       "              -0.5571048 , -1.3648001 , -1.014774  ,  1.5868319 , -0.22879452,\n",
       "              -1.03647   ,  0.18343948, -0.16129182, -0.7516573 , -0.29776907,\n",
       "               0.09056094, -0.5433327 , -0.37931907, -0.6818009 ,  0.22526637,\n",
       "              -0.80143267, -0.6018772 ,  0.5187173 , -1.1662592 ,  0.68373996,\n",
       "               0.5898992 , -0.10269813,  1.8632916 ,  0.25468633, -1.8842381 ,\n",
       "               1.1199435 ,  0.37992457,  0.2878373 , -0.38850453, -1.6774999 ,\n",
       "              -1.628317  , -1.1195946 , -1.3577609 , -0.04224224,  2.037091  ,\n",
       "              -1.2108573 , -1.2790796 , -0.7767694 ,  0.07464816,  0.19872743,\n",
       "               0.25674325, -0.97011465,  1.037971  ,  0.00791816, -0.44526452,\n",
       "               1.3875982 ,  0.7834408 , -0.1863418 ,  0.7145554 , -0.8761766 ,\n",
       "              -0.1416079 ,  0.87281096,  0.83519   ,  1.2739837 , -0.14135128,\n",
       "              -0.3100612 ,  0.8196164 ,  1.4319974 , -0.39610454, -1.2215027 ,\n",
       "              -1.2426568 , -0.32251272,  1.3947809 ,  1.3884922 , -1.1537173 ,\n",
       "               0.68025726, -1.5052819 ,  0.99127805, -0.54746795, -0.21370913,\n",
       "               0.35406363,  0.8233372 ,  0.81489545,  0.9089827 , -0.70934814,\n",
       "               1.1696646 ,  1.6586326 , -0.7314981 , -0.72665995, -1.5029438 ,\n",
       "              -1.1916772 , -0.8772077 , -1.1599747 , -0.14052266, -0.88184094,\n",
       "              -0.94805676, -1.4536383 , -1.3558419 , -0.13582455,  0.70969915,\n",
       "              -0.75295264, -0.36947176,  0.9581728 , -1.497341  , -0.31249788,\n",
       "              -1.1569456 , -1.2508528 , -0.76255995, -0.44364816, -0.55020905,\n",
       "               0.5176699 , -0.76098275, -1.8099301 ,  0.44583997,  0.67749363,\n",
       "               3.780049  , -0.49908546, -1.0534991 ,  1.8045719 ,  0.3998473 ,\n",
       "               0.99413735, -0.16777179, -0.22114635,  0.69412   ,  0.23701154,\n",
       "              -1.3496709 , -0.36109483,  1.5545154 , -0.8112755 ,  2.056362  ,\n",
       "               0.44239452,  0.29874286, -0.8144154 , -0.60610443,  0.48495457,\n",
       "               0.7523992 ,  0.42281377, -0.9896136 , -0.5020173 ,  1.0449169 ,\n",
       "              -0.00853458,  1.4398261 , -0.57963187, -0.30766544, -0.2095092 ,\n",
       "               1.1819736 ,  0.6779583 , -0.13683271,  0.02856359, -1.6004544 ,\n",
       "              -1.1410335 ,  1.5471882 , -0.6655529 ,  1.9140531 , -1.0923718 ,\n",
       "               0.87921506, -0.3335791 ,  1.5143527 , -0.47656453,  0.86454827,\n",
       "               1.6256835 ,  0.787888  , -0.66549516,  0.7345518 , -0.33562458,\n",
       "               0.8587263 , -1.0835019 , -0.15114728,  0.31401002,  0.44593993,\n",
       "               0.80056554,  0.04571001,  1.4939353 ,  0.03544101, -1.3246218 ,\n",
       "               0.28798085,  0.63027436,  0.07284725, -0.05355727,  0.2908928 ,\n",
       "               0.08728567, -0.7408062 , -1.3435167 ,  0.19852638,  0.8712054 ,\n",
       "              -0.55384725, -0.37350014, -2.0327837 ,  0.8395891 ,  0.40238273,\n",
       "               0.22557989, -1.5870847 ,  1.7488663 , -0.44584087, -0.14336365,\n",
       "              -0.7465012 , -0.32223427,  0.08436205, -1.095003  , -0.35606453,\n",
       "              -1.1781737 , -1.2943518 , -0.8631611 , -0.77885383, -0.35961726,\n",
       "               0.80689657, -1.5689397 , -0.7091541 ,  0.07408789,  0.76956075,\n",
       "              -0.3335746 , -0.43179628,  1.2236779 ,  0.10620639, -0.14013244,\n",
       "              -0.151399  ,  0.39020002,  0.33500624, -1.0522279 ,  0.6377327 ,\n",
       "               2.0200455 , -0.49016464, -0.00633535,  1.0980208 , -1.2904143 ,\n",
       "               0.02013092,  1.3440474 ,  0.31174538, -1.0359391 ,  0.02925591],\n",
       "             dtype=float32)                                                    ,\n",
       "       array([-1.84128785e+00, -2.52782750e+00, -2.73456073e+00,  3.40331674e+00,\n",
       "               2.40238309e+00,  1.86960310e-01,  1.87384057e+00,  2.18318272e+00,\n",
       "               2.91222572e-01, -8.20423245e-01, -7.24883974e-01, -1.28745210e+00,\n",
       "              -2.54559875e+00,  1.54871392e+00, -1.98857641e+00, -3.47015530e-01,\n",
       "               1.31372464e+00,  1.36408854e+00, -2.71986127e+00, -1.12144971e+00,\n",
       "               5.53495347e-01,  2.31073260e+00, -1.92951664e-01,  2.96205497e+00,\n",
       "              -1.36362717e-01, -8.32203217e-03, -2.62980640e-01, -1.28994226e+00,\n",
       "              -1.08768201e+00, -1.80571032e+00,  1.48675549e+00,  2.76734781e+00,\n",
       "              -7.07186684e-02, -1.23319733e+00, -5.38091421e-01, -2.87326479e+00,\n",
       "               4.21349001e+00,  2.16512680e-01,  1.50446260e+00,  1.63061666e+00,\n",
       "               1.41594946e+00, -1.02902281e+00, -1.62376273e+00,  3.36376333e+00,\n",
       "              -3.59799314e+00,  4.40762669e-01,  7.45998025e-01,  5.98556161e-01,\n",
       "               2.71384859e+00, -2.12224126e+00, -1.30794719e-01,  7.77525961e-01,\n",
       "              -2.20287395e+00, -9.44254041e-01, -2.25507426e+00,  2.22688603e+00,\n",
       "              -3.38518649e-01, -1.20705403e-01,  7.53505647e-01, -2.44458342e+00,\n",
       "              -1.27279329e+00,  2.44339681e+00, -1.43688405e+00, -6.71463251e-01,\n",
       "               2.81076884e+00,  4.19541329e-01, -1.53174949e+00,  1.74190927e+00,\n",
       "              -1.59526505e-02,  2.34743333e+00, -4.52399164e-01, -1.32135534e+00,\n",
       "              -1.14625478e+00,  2.24509931e+00, -7.69438684e-01,  1.96094465e+00,\n",
       "               9.05270696e-01,  7.97754943e-01, -1.00545548e-01,  4.32996035e+00,\n",
       "              -1.99457929e-01,  7.25252032e-01, -1.64730811e+00, -5.13276696e-01,\n",
       "              -3.26078534e+00, -7.05735743e-01, -1.95788884e+00,  1.11194062e+00,\n",
       "              -1.32184851e+00,  2.58783984e+00,  1.00510740e+00,  2.33886456e+00,\n",
       "              -9.39386666e-01,  1.70298409e+00,  1.25229609e+00,  2.19576406e+00,\n",
       "              -2.60813999e+00,  1.42521441e+00,  2.21755362e+00,  6.15382612e-01,\n",
       "               7.83366799e-01, -3.39331484e+00,  7.68928885e-01, -6.03573978e-01,\n",
       "              -3.17722231e-01,  1.62510669e+00, -1.80024624e-01, -1.21722543e+00,\n",
       "               1.23340607e+00, -1.34703207e+00,  7.54967332e-01, -1.71957958e+00,\n",
       "               1.00547984e-01,  1.28045213e+00, -3.54485154e-01,  1.32437670e+00,\n",
       "              -1.52020943e+00, -1.49440014e+00,  1.79965591e+00, -4.77316022e-01,\n",
       "              -1.43267274e+00, -2.03568316e+00,  5.91534495e-01, -2.83553332e-01,\n",
       "              -8.42113316e-01, -1.34875870e+00, -3.11253548e-01, -1.36513293e-01,\n",
       "               4.86795366e-01, -1.67127371e-01, -2.18952394e+00, -1.74383447e-01,\n",
       "               2.93804288e+00,  2.70008135e+00, -1.31731192e-02, -7.06276059e-01,\n",
       "               1.46221793e+00,  1.15667677e+00, -2.54833937e+00, -2.56080460e-02,\n",
       "               5.33542037e-01, -5.95339358e-01,  1.97676623e+00,  7.52034843e-01,\n",
       "              -1.62629187e+00,  8.93650651e-01, -1.61252999e+00, -9.60654557e-01,\n",
       "              -3.19844693e-01,  1.56201994e+00,  1.15035728e-01, -4.89213437e-01,\n",
       "               1.31277651e-01,  5.85792542e-01, -1.06686689e-01, -2.68893743e+00,\n",
       "               5.38124681e-01, -5.13795972e-01,  1.00270855e+00, -3.19449663e+00,\n",
       "               1.31467545e+00,  1.03811406e-01,  2.86015606e+00,  2.47527212e-01,\n",
       "              -8.53155375e-01,  1.27064526e+00, -6.22902572e-01, -8.58444035e-01,\n",
       "               1.26250947e+00,  9.14855421e-01, -3.72961473e+00,  4.78479326e-01,\n",
       "              -2.19237971e+00, -2.08757615e+00, -2.26622028e-03,  3.26919222e+00,\n",
       "              -2.37745547e+00,  4.84178275e-01, -9.67142701e-01, -7.12160245e-02,\n",
       "              -3.18905330e+00,  1.90319335e+00, -1.84537554e+00, -7.82031834e-01,\n",
       "              -7.84130633e-01,  4.89632636e-01,  2.62716651e-01,  2.75962687e+00,\n",
       "               7.70534694e-01,  9.55314040e-01,  1.85875010e+00,  2.07869977e-01,\n",
       "              -1.39568663e+00, -1.09125531e+00,  2.60955477e+00,  1.39749074e+00,\n",
       "              -2.12928462e+00, -2.87301087e+00, -2.35134554e+00, -8.01675439e-01,\n",
       "              -2.68016130e-01, -2.28133488e+00,  1.18422461e+00,  1.08873534e+00,\n",
       "               4.15174437e+00, -3.96699965e-01, -1.39037073e+00,  1.17364550e+00,\n",
       "               4.00460720e-01,  8.30920115e-02, -5.30048609e-01, -2.22012755e-02,\n",
       "              -9.03661102e-02, -1.01700890e+00,  6.35080695e-01, -1.78003628e-02,\n",
       "               4.14840937e+00, -2.46546721e+00, -6.35955393e-01, -1.01452541e+00,\n",
       "               2.99860930e+00,  2.18375385e-01, -1.45011771e+00, -3.02203345e+00,\n",
       "              -2.68212646e-01, -1.57434607e+00, -1.24411352e-01, -9.67206657e-02,\n",
       "              -8.68019283e-01, -1.25167918e+00,  2.20723128e+00, -2.41917586e+00,\n",
       "              -4.52766687e-01,  1.02285959e-01,  4.55837309e-01,  2.97859311e-01,\n",
       "               2.24047804e+00,  5.35215318e-01,  8.34815204e-01,  2.38570666e+00,\n",
       "              -2.50859618e+00, -9.97679383e-02,  5.66260636e-01,  3.13771605e+00,\n",
       "               1.37461746e+00, -3.40841524e-02,  1.12685271e-01,  1.23527730e+00,\n",
       "              -1.74327314e-01, -1.58566058e-01,  3.67165893e-01, -1.12629330e+00,\n",
       "              -5.85418701e-01, -1.08686805e+00,  2.53392398e-01,  4.91833352e-02,\n",
       "               1.49976230e+00, -2.33074665e+00,  1.61409533e+00, -1.20787537e+00,\n",
       "              -8.17266047e-01,  1.10314691e+00,  8.53667974e-01,  2.95102149e-01,\n",
       "              -1.00582337e+00, -1.85590398e+00,  7.39315331e-01, -1.80540025e-01,\n",
       "              -1.72130001e+00, -6.49128616e-01, -1.66884696e+00,  2.15259409e+00,\n",
       "               1.89570498e+00, -1.10852814e+00, -1.03499711e+00, -9.89992023e-01,\n",
       "              -1.18726134e+00, -1.29361725e+00,  1.29101670e+00, -2.02567894e-02,\n",
       "               4.25024176e+00,  1.42447814e-01, -4.83257174e-01, -2.04095340e+00,\n",
       "              -5.24265170e-01,  6.34879917e-02, -1.60945201e+00,  3.86362016e-01,\n",
       "              -1.24050272e+00,  7.83197522e-01, -3.51970887e+00,  6.16362512e-01,\n",
       "              -3.51071328e-01,  3.54548168e+00, -7.60497093e-01,  1.67241466e+00,\n",
       "               4.41828042e-01, -2.93175912e+00,  9.96122003e-01,  1.51202798e+00],\n",
       "             dtype=float32)                                                       ,\n",
       "       ...,\n",
       "       array([-2.29564142e+00, -2.50510294e-02, -4.74718601e-01, -3.57194155e-01,\n",
       "               3.18922073e-01, -4.39905673e-01,  1.82562685e+00,  1.45872426e+00,\n",
       "              -3.27686638e-01, -1.21491957e+00,  2.37615317e-01,  1.35667130e-01,\n",
       "              -6.92221940e-01,  4.63528663e-01, -1.59213924e+00,  1.35713533e-01,\n",
       "               5.31307310e-02,  3.56753558e-01,  4.35637653e-01,  2.25378513e+00,\n",
       "              -4.56576228e-01,  1.94896269e+00, -5.26626527e-01,  1.76007763e-01,\n",
       "              -2.72514582e-01, -7.81675816e-01, -6.37327358e-02, -2.64591187e-01,\n",
       "               6.12773895e-01, -1.18899739e+00,  1.08448274e-01,  3.90111744e-01,\n",
       "               5.04769027e-01,  1.05138659e+00, -3.03508067e+00, -8.24234426e-01,\n",
       "              -5.42127669e-01,  4.81361568e-01, -6.38628662e-01,  9.70430851e-01,\n",
       "              -2.30359942e-01, -9.53638315e-01, -2.92720050e-01,  1.95428014e+00,\n",
       "              -1.86434901e+00,  5.79349160e-01,  3.94393265e-01, -1.74771655e+00,\n",
       "               1.10660478e-01,  3.84127319e-01,  1.34188691e-02,  3.26177686e-01,\n",
       "              -5.17011404e-01, -4.05947059e-01, -7.35532269e-02, -1.10467350e+00,\n",
       "               2.06481647e+00, -2.94746935e-01,  1.31201899e+00, -7.20902264e-01,\n",
       "              -1.17079008e+00, -1.22823454e-01, -2.05514133e-02, -9.17568266e-01,\n",
       "               1.06559038e+00,  1.77068278e-01, -1.19045794e+00, -2.35586023e+00,\n",
       "               1.30509615e+00,  8.79633009e-01,  4.47092146e-01, -1.59683064e-01,\n",
       "              -8.92593026e-01,  1.34106772e-02, -3.99444461e-01,  5.49043119e-01,\n",
       "              -7.22456217e-01,  1.71272361e+00, -1.68599620e-01,  6.55814826e-01,\n",
       "               1.18256040e-01,  2.42490008e-01, -5.55155694e-01,  6.23051822e-01,\n",
       "               3.14239144e-01, -1.08746898e+00, -1.92602444e+00, -2.83198684e-01,\n",
       "               1.01645136e+00,  8.51613104e-01, -1.48864999e-01,  7.15890884e-01,\n",
       "               2.00139046e+00, -6.07029140e-01,  5.64401783e-02,  7.41956457e-02,\n",
       "              -5.75610936e-01,  1.01138854e+00,  4.03779149e-01,  4.90176499e-01,\n",
       "               9.45914209e-01,  1.54626414e-01,  1.23011661e+00,  1.76994634e+00,\n",
       "              -1.67025328e+00,  1.31544566e+00,  1.41310382e+00, -2.61160523e-01,\n",
       "               9.32566524e-01, -2.11314440e+00, -1.11868036e+00, -8.65059495e-01,\n",
       "               9.30530205e-02,  2.10677773e-01,  9.33700204e-01,  5.41397989e-01,\n",
       "              -1.05200422e+00, -6.12440780e-02, -5.11875391e-01, -1.37477785e-01,\n",
       "               6.93196774e-01, -2.68321729e+00,  7.88929999e-01, -1.46007016e-01,\n",
       "              -1.06976473e+00, -1.95459142e-01,  2.08320522e+00, -9.21867788e-01,\n",
       "               3.74505115e+00, -2.57173061e-01, -2.36357260e+00,  1.58251315e-01,\n",
       "               7.64623463e-01, -1.13681018e+00, -7.46865332e-01,  1.13924396e+00,\n",
       "               7.18406022e-01,  1.11383998e+00,  1.71146524e+00, -8.43154728e-01,\n",
       "              -2.64428639e+00, -9.60563064e-01,  3.00541341e-01,  4.29602191e-02,\n",
       "              -6.91276550e-01, -1.34504426e+00, -2.82409596e+00,  5.57856619e-01,\n",
       "              -4.32810038e-01,  4.17122841e-01,  6.96145952e-01,  2.67240858e+00,\n",
       "              -9.55703318e-01,  1.63813686e+00,  5.48620448e-02,  4.39032584e-01,\n",
       "               1.58405471e+00, -7.40360498e-01, -1.73357952e+00, -1.23614049e+00,\n",
       "               7.94652879e-01, -3.02252984e+00,  6.32744789e-01, -1.79684371e-01,\n",
       "              -1.76682377e+00, -7.88054407e-01, -5.18379629e-01,  1.48457026e+00,\n",
       "               3.06175768e-01,  5.01540959e-01, -1.92956299e-01,  9.98971879e-01,\n",
       "               9.57070410e-01, -1.22117877e+00,  8.82237554e-01,  1.12407029e+00,\n",
       "              -2.66016722e-01,  4.78035599e-01,  2.78562188e-01, -1.62662673e+00,\n",
       "              -1.02855049e-01, -1.82945561e+00, -2.45455638e-01,  2.18933511e+00,\n",
       "               6.49972022e-01,  8.90092015e-01,  8.99919271e-01,  4.22873884e-01,\n",
       "               1.19187522e+00,  2.37306640e-01, -3.94263834e-01, -6.51872218e-01,\n",
       "               5.87820292e-01,  1.06851101e-01,  3.90644401e-01,  9.08272386e-01,\n",
       "              -1.41132438e+00,  2.84955710e-01,  3.80477995e-01,  1.30161297e+00,\n",
       "               3.89447838e-01, -2.04096839e-01,  7.15508759e-01, -1.00864303e+00,\n",
       "               1.27700046e-01,  3.60053897e-01, -2.13308766e-01, -3.78973186e-01,\n",
       "              -2.88776726e-01, -1.39346445e+00, -7.13399291e-01, -8.98753881e-01,\n",
       "              -2.32803449e-01,  9.87712383e-01,  5.38162172e-01,  7.31561184e-01,\n",
       "               1.89065075e+00,  1.25623930e+00,  2.00420117e+00,  7.18689561e-01,\n",
       "              -1.08851612e+00, -9.41351831e-01, -6.58572495e-01,  7.52398670e-01,\n",
       "              -9.04788077e-01,  5.76157868e-01, -1.13474131e-01,  1.17731273e+00,\n",
       "               2.84156948e-02, -7.83415973e-01,  6.42150700e-01, -1.39040911e+00,\n",
       "               4.08671476e-04, -1.81431615e+00,  3.01436126e-01,  1.12597787e+00,\n",
       "              -1.81671453e+00,  8.40355158e-01,  5.18658876e-01, -1.55718899e+00,\n",
       "               6.46323085e-01,  3.70529562e-01,  1.71945477e+00,  5.30456245e-01,\n",
       "               3.44473064e-01,  4.97420192e-01, -7.25740194e-01,  1.10166095e-01,\n",
       "              -5.18923044e-01,  9.80830014e-01,  6.52456462e-01, -1.39617538e+00,\n",
       "              -1.61568487e+00,  1.45494747e+00,  5.21642625e-01, -1.42479336e+00,\n",
       "              -8.68094787e-02, -2.22473001e+00,  1.38612673e-01,  5.77630959e-02,\n",
       "              -9.59643841e-01, -6.69976413e-01,  1.25106005e-03, -6.22589111e-01,\n",
       "              -9.95928407e-01, -3.04605007e-01, -2.55775690e-01,  8.87560844e-02,\n",
       "              -1.70940936e+00, -1.97433054e-01, -1.17678690e+00, -1.09565213e-01,\n",
       "               1.38423458e-01,  3.35409135e-01,  4.46262538e-01, -2.44740009e-01,\n",
       "               7.60268331e-01, -4.32976961e-01, -4.55547839e-01,  6.67763233e-01,\n",
       "              -3.42597306e-01,  5.20433426e-01, -1.10281634e+00,  1.82814106e-01,\n",
       "               2.24541998e+00,  3.92527252e-01,  8.82589936e-01, -1.31159365e+00,\n",
       "               3.89835656e-01, -3.98553967e-01,  1.25791776e+00, -1.47301102e+00,\n",
       "               6.17663980e-01, -9.92464274e-02, -1.57499576e+00,  1.99028224e-01,\n",
       "               7.12950826e-01, -1.31371081e+00,  2.40759104e-01,  2.97752172e-01],\n",
       "             dtype=float32)                                                       ,\n",
       "       array([-1.77979505e+00, -7.55354166e-01,  4.54396009e-01,  1.56858003e+00,\n",
       "               2.84655428e+00,  2.01689929e-01,  2.13258600e+00,  1.16456604e+00,\n",
       "              -6.52993977e-01,  8.84596050e-01,  3.23378026e-01,  2.74608046e-01,\n",
       "               1.22280002e+00, -3.75665992e-01,  3.38105977e-01, -1.29607797e+00,\n",
       "               6.52590871e-01, -5.91887951e-01,  6.36034012e-01,  5.48519969e-01,\n",
       "               2.09566027e-01,  2.62570053e-01, -1.66986942e-01, -4.56095994e-01,\n",
       "               7.75844157e-01,  1.15435398e+00, -2.26274943e+00,  3.22201997e-01,\n",
       "               1.20337605e+00,  1.81733370e-01, -1.35063601e+00,  4.84100014e-01,\n",
       "               2.14356995e+00, -1.71335387e+00, -1.19282687e+00, -6.27063990e-01,\n",
       "              -3.30607831e-01,  1.01726401e+00, -5.47330797e-01,  5.37155643e-02,\n",
       "               3.48579884e-02,  4.26084042e-01,  6.51630044e-01,  3.85342777e-01,\n",
       "               2.52634048e-01,  7.02310026e-01, -2.05450201e+00,  1.77188802e+00,\n",
       "               5.35838008e-01, -1.04327607e+00, -5.92162013e-01,  1.13834000e+00,\n",
       "               1.35941410e+00, -2.10677218e+00, -4.01434034e-01,  6.96215987e-01,\n",
       "              -1.70441985e-01, -1.31498024e-01,  1.35530806e+00,  1.64389586e+00,\n",
       "               2.61197099e-03,  6.04735970e-01,  1.88414788e+00,  1.29514003e+00,\n",
       "               2.48085809e+00,  2.77424008e-01, -2.81262612e+00,  1.49939820e-01,\n",
       "               9.49071050e-01,  5.90925992e-01, -8.53623986e-01, -5.58304012e-01,\n",
       "               6.15902424e-01,  1.21790195e+00,  1.91627488e-01,  6.78099990e-01,\n",
       "               9.73578095e-01, -1.74841404e+00,  5.47704041e-01, -8.05675983e-01,\n",
       "              -1.18307197e+00, -1.04940180e-02, -1.46822202e+00,  2.51540005e-01,\n",
       "               1.06152013e-01, -8.52663815e-01,  1.26549602e+00, -1.96452785e+00,\n",
       "              -2.99681640e+00,  8.64204049e-01, -2.67881960e-01,  1.14175403e+00,\n",
       "              -1.65745970e-02, -3.77701938e-01, -7.04560280e-02,  7.20148087e-02,\n",
       "               8.82348061e-01, -1.19077086e+00,  1.14087999e+00, -4.32000160e-02,\n",
       "              -3.08059696e-02, -2.41702008e+00,  6.21168017e-01,  9.49353993e-01,\n",
       "               2.72905976e-01, -6.51257992e-01, -3.73713613e+00,  3.00575405e-01,\n",
       "              -1.15136005e-01, -1.75990605e+00, -1.86772779e-01, -1.21423995e+00,\n",
       "               1.02068400e+00,  1.90402597e-01, -3.81080136e-02, -1.70340848e+00,\n",
       "              -4.65326965e-01, -1.57442009e+00, -1.51884401e+00,  8.50748062e-01,\n",
       "               9.43723977e-01, -4.10667986e-01,  2.36006066e-01,  3.82654011e-01,\n",
       "               1.40470004e+00,  2.06788206e+00,  4.74618018e-01, -1.77590108e+00,\n",
       "               2.86720014e+00, -6.91048026e-01, -1.76163197e+00, -6.09798014e-01,\n",
       "               1.37656593e+00,  3.03420313e-02,  2.00588390e-01,  1.19918001e+00,\n",
       "              -1.47733971e-01, -8.87533963e-01,  3.95985931e-01, -1.83914930e-01,\n",
       "              -1.50900805e+00,  1.23469234e+00,  8.47600102e-02,  1.15395403e+00,\n",
       "               5.65712035e-01,  2.38065982e+00, -1.91318607e+00, -1.82937396e+00,\n",
       "               4.98919971e-02, -1.17039993e-01,  2.38278818e+00, -3.74299228e-01,\n",
       "              -8.97691905e-01, -5.69702029e-01, -1.28573406e+00,  1.15141606e+00,\n",
       "               2.81265998e+00, -7.18309343e-01,  6.53147578e-01, -2.11609411e+00,\n",
       "              -3.96942586e-01, -3.17673397e+00,  1.71056592e+00, -1.84780031e-01,\n",
       "              -1.84207594e+00,  4.34909999e-01,  3.68599594e-01, -9.44340050e-01,\n",
       "               2.28963208e+00,  2.79766202e+00, -7.81488001e-01,  1.14680409e+00,\n",
       "              -6.91305935e-01,  1.66920316e+00, -9.95235145e-01,  7.50508010e-01,\n",
       "              -2.18594003e+00, -3.85491192e-01,  2.16798615e+00, -5.21201968e-01,\n",
       "              -1.59200406e+00,  2.23021984e+00, -7.94489980e-01,  2.36383986e+00,\n",
       "              -2.95280385e+00,  1.15036213e+00, -9.60238099e-01, -6.56538010e-01,\n",
       "               1.53028870e+00, -6.90080047e-01, -2.66187899e-02,  1.16476190e+00,\n",
       "              -9.50185955e-01,  1.10326052e-01,  1.34482408e+00, -3.57689917e-01,\n",
       "               1.00526404e+00, -3.21284026e-01, -1.97218394e+00, -5.45200109e-02,\n",
       "               1.03904057e+00, -2.53449583e+00,  1.46017396e+00, -1.46261394e+00,\n",
       "               1.70867383e+00,  9.02236104e-01,  7.49513566e-01, -1.62579659e-02,\n",
       "               9.65672016e-01,  2.03705001e+00,  1.65019000e+00, -1.94894075e-01,\n",
       "              -6.56463206e-01,  2.04249191e+00,  1.55668998e+00, -1.13995813e-01,\n",
       "               4.98597950e-01, -1.31541193e+00, -7.05695987e-01, -9.01332080e-01,\n",
       "               2.00046033e-01, -2.88917534e-02, -7.28819966e-01, -1.30639863e+00,\n",
       "              -1.30979598e+00, -1.99780011e+00, -1.46058008e-01,  2.05011392e+00,\n",
       "               8.96492600e-01, -9.19487953e-01,  6.65754020e-01, -9.51439887e-02,\n",
       "              -1.21373999e+00,  1.96384430e-01, -1.74260592e+00, -3.62048000e-01,\n",
       "               8.57575417e-01,  6.22253954e-01, -1.95553613e+00, -5.31567216e-01,\n",
       "              -1.13982999e+00, -1.87331200e+00,  5.86027980e-01,  3.04594588e+00,\n",
       "               7.84554005e-01,  9.92902294e-02,  3.69158000e-01,  4.39520031e-01,\n",
       "               1.47737396e+00, -4.76031214e-01, -2.94259787e-02, -1.41147196e+00,\n",
       "              -2.11818385e+00,  1.41337180e+00, -1.00769198e+00, -1.54344642e+00,\n",
       "               1.36401165e+00,  1.85170400e+00, -1.11319922e-01,  8.34880054e-01,\n",
       "               9.15045917e-01,  2.88436025e-01, -1.02536404e+00, -6.51304007e-01,\n",
       "              -1.41180611e+00, -1.28067327e+00,  1.69132650e+00, -5.00685990e-01,\n",
       "              -1.74422610e+00,  8.27759922e-01,  1.98562598e+00, -1.15975189e+00,\n",
       "              -6.10063970e-01,  1.62517607e+00, -1.25293803e+00,  8.07527900e-01,\n",
       "               4.94281203e-01,  9.79808807e-01,  1.35768795e+00, -1.78633809e+00,\n",
       "               1.80098188e+00, -1.36361194e+00, -9.79559898e-01, -8.12833965e-01,\n",
       "               2.78795958e-01,  4.92397964e-01, -9.34184074e-01, -2.12941003e+00,\n",
       "              -1.68399012e+00, -5.53557992e-01, -1.11014605e+00, -1.80463791e+00,\n",
       "              -5.16332030e-01, -1.17080998e+00, -2.65386015e-01,  1.58507073e+00,\n",
       "               1.14517665e+00, -8.35347772e-01,  6.57700002e-01, -5.35708010e-01],\n",
       "             dtype=float32)                                                       ,\n",
       "       array([-0.32742494,  1.5462391 , -1.373412  ,  0.16789302,  1.028684  ,\n",
       "               1.0454699 ,  1.401566  ,  2.111543  , -3.0556314 ,  0.92993104,\n",
       "               3.2565398 ,  1.4750714 , -2.989152  ,  0.30052108,  1.769433  ,\n",
       "               0.4743154 ,  2.678714  , -0.601058  , -1.7789538 ,  0.05660203,\n",
       "               1.9319118 ,  0.40612108,  1.156489  , -1.9366341 , -1.2328707 ,\n",
       "              -0.00958467, -1.563859  , -0.894343  ,  1.0824955 ,  0.5499817 ,\n",
       "               0.22263606, -0.27468792,  0.21816096, -1.0579702 ,  0.08161931,\n",
       "              -1.3006251 ,  0.690144  ,  0.47611198,  0.77526796,  0.78232324,\n",
       "               0.24385194,  0.8174931 ,  2.504375  , -1.6930959 , -1.0424716 ,\n",
       "               1.8262289 ,  0.7135807 , -1.3130829 , -0.466685  , -0.28226   ,\n",
       "               1.1955687 ,  1.7198951 ,  0.10716977, -1.40038   , -1.070097  ,\n",
       "              -1.8822966 , -1.644305  ,  0.69611377,  1.209865  , -0.8897621 ,\n",
       "               1.33474   , -0.22194806, -2.409662  , -1.8310468 ,  1.9799135 ,\n",
       "               1.109116  , -2.1336427 , -2.143048  ,  0.43529797,  1.4486    ,\n",
       "               0.7613912 , -0.6975948 ,  0.02620797, -1.419899  ,  0.12439702,\n",
       "               1.6519461 , -1.0260861 , -0.01156321,  0.905838  , -0.02741845,\n",
       "              -1.11772   ,  0.36452508,  1.8360659 ,  1.1270216 ,  0.519307  ,\n",
       "               0.22878993,  1.267248  , -1.8733946 ,  0.9825419 ,  1.2577109 ,\n",
       "               0.4894201 ,  1.2254455 ,  0.00502894, -1.1801201 ,  2.0645611 ,\n",
       "               0.21464403, -1.1626312 , -1.4134232 ,  0.75196207, -0.00934   ,\n",
       "               1.095175  , -0.7128948 ,  0.353232  ,  1.9754397 , -1.5103704 ,\n",
       "               1.463309  , -1.430062  , -0.05919892, -0.9876369 , -1.46344   ,\n",
       "               0.3591929 , -1.166325  , -1.513719  , -0.14965007, -0.10756998,\n",
       "               2.9028246 , -2.2280324 , -1.9712799 , -0.10408592, -0.55099803,\n",
       "              -3.378849  , -1.526069  ,  0.3908519 , -0.278113  , -0.7531272 ,\n",
       "               0.61741906,  1.044801  ,  0.91881   ,  3.083886  , -0.23590806,\n",
       "              -2.1506224 , -0.2818729 , -0.52019   , -1.4492359 ,  0.1845853 ,\n",
       "              -1.7444601 , -1.028873  , -1.224253  ,  2.1066155 , -0.06605338,\n",
       "              -0.94327897,  1.4430053 , -0.35256898,  1.4809837 , -2.132629  ,\n",
       "              -0.34813005, -3.1558528 , -2.1369548 , -1.0880599 , -0.49730605,\n",
       "              -1.251431  , -0.3702992 ,  1.063451  ,  2.3417602 , -0.574148  ,\n",
       "               0.2808307 ,  3.506553  ,  0.7252048 ,  0.50102603, -1.4445951 ,\n",
       "              -0.73540974, -2.3002522 , -1.4786431 , -1.100681  , -1.0239928 ,\n",
       "               1.3027381 , -1.9177611 , -1.5642921 , -0.37526166, -2.3527389 ,\n",
       "               1.959913  ,  0.32589802,  0.900027  , -1.1566961 ,  1.8853471 ,\n",
       "              -0.289321  , -1.1237541 ,  0.74843097,  0.33110404, -1.2477124 ,\n",
       "               0.38342497,  0.583516  ,  1.8720856 , -0.35978302, -0.50992906,\n",
       "              -0.351502  ,  0.7514087 , -2.3922217 ,  2.722084  ,  2.358358  ,\n",
       "              -0.87112904,  0.75887   , -0.6699331 , -0.3843815 , -0.862878  ,\n",
       "              -1.9019419 , -0.471634  ,  0.3552793 , -1.2417281 ,  1.9606861 ,\n",
       "              -0.7034459 ,  1.041898  , -0.838554  , -2.3249118 ,  1.0283312 ,\n",
       "              -0.0653827 , -0.8496069 ,  1.532923  , -0.688501  ,  0.585552  ,\n",
       "               1.3537339 , -0.9005583 ,  0.11359499,  0.7798231 , -1.7648691 ,\n",
       "               2.798479  ,  0.27711245, -0.357832  , -1.1679509 ,  0.414388  ,\n",
       "              -2.000375  ,  0.47954503, -1.11309   ,  1.6980282 , -0.23525715,\n",
       "              -0.58159924,  0.45191512,  2.242062  , -0.0451621 ,  1.2830939 ,\n",
       "              -0.23579326, -2.9245331 , -1.2558138 , -0.6849433 , -0.16758399,\n",
       "              -0.77746594, -1.1534413 ,  1.6401421 ,  1.620917  , -0.6435279 ,\n",
       "              -1.570302  , -0.56557596, -0.22225699,  0.9972541 ,  0.79785705,\n",
       "               0.02494609, -0.37835997, -0.916732  ,  1.556837  ,  0.366145  ,\n",
       "              -1.238188  , -0.72484046, -2.24015   ,  0.979283  ,  1.4485772 ,\n",
       "              -1.443138  ,  0.99208003, -0.01352205,  0.13747601,  1.498802  ,\n",
       "              -1.4157076 ,  0.63843703,  0.008213  ,  0.663703  ,  0.37288898,\n",
       "              -0.06721745, -0.733261  ,  1.8241031 , -1.7069118 , -1.143847  ,\n",
       "               0.21298298, -0.56883895, -0.4075535 ,  0.17734407,  1.570965  ,\n",
       "              -2.99461   ,  0.7358669 , -1.3261449 , -1.2828939 ,  0.34639096,\n",
       "              -0.85857296, -1.0724648 ,  0.09464786, -2.071088  ,  3.6344101 ,\n",
       "               0.53407896,  1.560058  ,  0.85155696, -3.0930698 , -0.9513809 ,\n",
       "               1.137411  , -0.50192404, -0.6819669 ,  0.29592398, -1.9872739 ,\n",
       "              -1.26482   ,  0.17755777, -0.54903597, -1.732469  ,  0.6607753 ],\n",
       "             dtype=float32)                                                    ],\n",
       "      dtype=object)"
      ]
     },
     "execution_count": 22,
     "metadata": {},
     "output_type": "execute_result"
    }
   ],
   "source": [
    "X_train.values # is not in 2d format"
   ]
  },
  {
   "cell_type": "markdown",
   "metadata": {
    "id": "AaneRpe_yPN8"
   },
   "source": [
    "**Reshape the X_train and X_test so as to fit for models**"
   ]
  },
  {
   "cell_type": "code",
   "execution_count": 23,
   "metadata": {
    "colab": {
     "base_uri": "https://localhost:8080/"
    },
    "id": "CsW_POgXzE48",
    "outputId": "4367a34c-c9fc-41e2-b1ae-29577648f32b"
   },
   "outputs": [],
   "source": [
    "# import numpy as np\n",
    "import numpy as np\n",
    "\n",
    "\n",
    "#reshapes the X_train and X_test using 'stack' function of numpy. Store the result in new variables \"X_train_2d\" and \"X_test_2d\"\n",
    "X_train_2d = np.stack(X_train)\n",
    "X_test_2d = np.stack(X_test)\n"
   ]
  },
  {
   "cell_type": "markdown",
   "metadata": {
    "id": "2RKhDtigyfDm"
   },
   "source": [
    "**Attempt 1:**\n",
    "\n",
    "\n",
    "- use spacy glove embeddings for text vectorization.\n",
    "\n",
    "- use Decision Tree as the classifier.\n",
    "\n",
    "- print the classification report."
   ]
  },
  {
   "cell_type": "code",
   "execution_count": 27,
   "metadata": {
    "colab": {
     "base_uri": "https://localhost:8080/"
    },
    "id": "FPxr0V68zE-y",
    "outputId": "15d1877c-5cf7-4ca0-de9b-522f3c6178ea"
   },
   "outputs": [
    {
     "name": "stdout",
     "output_type": "stream",
     "text": [
      "              precision    recall  f1-score   support\n",
      "\n",
      "           0       0.76      0.77      0.77       499\n",
      "           1       0.77      0.72      0.74       530\n",
      "           2       0.74      0.79      0.76       471\n",
      "\n",
      "    accuracy                           0.76      1500\n",
      "   macro avg       0.76      0.76      0.76      1500\n",
      "weighted avg       0.76      0.76      0.76      1500\n",
      "\n"
     ]
    }
   ],
   "source": [
    "from sklearn.tree import DecisionTreeClassifier\n",
    "\n",
    "\n",
    "#1. creating a Decision Tree model object\n",
    "clf = DecisionTreeClassifier()\n",
    "\n",
    "\n",
    "#2. fit with all_train_embeddings and y_train\n",
    "clf.fit(X_train_2d, y_train)\n",
    "\n",
    "\n",
    "#3. get the predictions for all_test_embeddings and store it in y_pred\n",
    "y_pred = clf.predict(X_test_2d)\n",
    "\n",
    "\n",
    "#4. print the classfication report\n",
    "print(classification_report(y_pred, y_test))"
   ]
  },
  {
   "cell_type": "markdown",
   "metadata": {
    "id": "nQdHIem6zANo"
   },
   "source": [
    "**Attempt 2:**\n",
    "\n",
    "\n",
    "- use spacy glove embeddings for text vectorization.\n",
    "- use MultinomialNB as the classifier after applying the MinMaxscaler.\n",
    "- print the classification report."
   ]
  },
  {
   "cell_type": "code",
   "execution_count": 31,
   "metadata": {
    "colab": {
     "base_uri": "https://localhost:8080/"
    },
    "id": "zJiRqXsRzE7F",
    "outputId": "b904000a-c812-4e2e-eb17-7594bc087838"
   },
   "outputs": [
    {
     "name": "stdout",
     "output_type": "stream",
     "text": [
      "              precision    recall  f1-score   support\n",
      "\n",
      "           0       0.86      0.87      0.87       499\n",
      "           1       0.72      0.92      0.81       388\n",
      "           2       0.90      0.73      0.81       613\n",
      "\n",
      "    accuracy                           0.83      1500\n",
      "   macro avg       0.83      0.84      0.83      1500\n",
      "weighted avg       0.84      0.83      0.83      1500\n",
      "\n"
     ]
    }
   ],
   "source": [
    "from sklearn.naive_bayes import MultinomialNB\n",
    "from sklearn.preprocessing import MinMaxScaler\n",
    "from sklearn.metrics import classification_report\n",
    "\n",
    "\n",
    "\n",
    "#doing scaling because Negative values will not pass into Naive Bayes models\n",
    "scaler = MinMaxScaler()\n",
    "\n",
    "\n",
    "#1. creating a MultinomialNB model object \n",
    "scaled_X_train = scaler.fit_transform(X_train_2d)\n",
    "scaled_X_test = scaler.fit_transform(X_test_2d)\n",
    "\n",
    "#2. fit with all_train_embeddings(scaled) and y_train\n",
    "clf = MultinomialNB()\n",
    "clf.fit(scaled_X_train, y_train)\n",
    "\n",
    "\n",
    "#3. get the predictions for all_test_embeddings and store it in y_pred\n",
    "y_pred = clf.predict(scaled_X_test)\n",
    "\n",
    "\n",
    "#4. print the classfication report\n",
    "print(classification_report(y_pred, y_test))"
   ]
  },
  {
   "cell_type": "markdown",
   "metadata": {
    "id": "zJbv-mxR0n4r"
   },
   "source": [
    "**Attempt 3:**\n",
    "\n",
    "\n",
    "- use spacy glove embeddings for text vectorization.\n",
    "- use KNeighborsClassifier as the classifier after applying the MinMaxscaler.\n",
    "- print the classification report."
   ]
  },
  {
   "cell_type": "code",
   "execution_count": 32,
   "metadata": {
    "colab": {
     "base_uri": "https://localhost:8080/"
    },
    "id": "UU0BNgVuzFAv",
    "outputId": "d242d458-2474-4f3d-9f61-0c74b184bb2f",
    "scrolled": false
   },
   "outputs": [
    {
     "name": "stdout",
     "output_type": "stream",
     "text": [
      "              precision    recall  f1-score   support\n",
      "\n",
      "           0       0.94      0.82      0.88       581\n",
      "           1       0.81      0.92      0.86       439\n",
      "           2       0.87      0.90      0.88       480\n",
      "\n",
      "    accuracy                           0.88      1500\n",
      "   macro avg       0.88      0.88      0.88      1500\n",
      "weighted avg       0.88      0.88      0.88      1500\n",
      "\n"
     ]
    }
   ],
   "source": [
    "from  sklearn.neighbors import KNeighborsClassifier\n",
    "\n",
    "\n",
    "#1. creating a KNN model object\n",
    "clf = KNeighborsClassifier()\n",
    "\n",
    "\n",
    "#2. fit with all_train_embeddings and y_train\n",
    "clf.fit(X_train_2d,y_train)\n",
    "\n",
    "\n",
    "#3. get the predictions for all_test_embeddings and store it in y_pred\n",
    "y_pred = clf.predict(X_test_2d)\n",
    "\n",
    "\n",
    "#4. print the classfication report\n",
    "print(classification_report(y_pred, y_test))"
   ]
  },
  {
   "cell_type": "code",
   "execution_count": 36,
   "metadata": {},
   "outputs": [
    {
     "name": "stdout",
     "output_type": "stream",
     "text": [
      "              precision    recall  f1-score   support\n",
      "\n",
      "           0       0.93      0.80      0.86       591\n",
      "           1       0.72      0.93      0.82       384\n",
      "           2       0.87      0.83      0.85       525\n",
      "\n",
      "    accuracy                           0.84      1500\n",
      "   macro avg       0.84      0.85      0.84      1500\n",
      "weighted avg       0.86      0.84      0.84      1500\n",
      "\n"
     ]
    }
   ],
   "source": [
    "from  sklearn.neighbors import KNeighborsClassifier\n",
    "\n",
    "\n",
    "#1. creating a KNN model object\n",
    "clf = KNeighborsClassifier()\n",
    "\n",
    "\n",
    "#2. fit with all_train_embeddings and y_train\n",
    "clf.fit(scaled_X_train,y_train) # After scaled\n",
    "\n",
    "\n",
    "#3. get the predictions for all_test_embeddings and store it in y_pred\n",
    "y_pred = clf.predict(scaled_X_test)\n",
    "\n",
    "\n",
    "#4. print the classfication report\n",
    "print(classification_report(y_pred, y_test))"
   ]
  },
  {
   "cell_type": "markdown",
   "metadata": {
    "id": "RKE0byVj04LO"
   },
   "source": [
    "**Attempt 4:**\n",
    "\n",
    "\n",
    "- use spacy glove embeddings for text vectorization.\n",
    "- use RandomForestClassifier as the classifier after applying the MinMaxscaler.\n",
    "- print the classification report."
   ]
  },
  {
   "cell_type": "code",
   "execution_count": 37,
   "metadata": {
    "colab": {
     "base_uri": "https://localhost:8080/"
    },
    "id": "K9c8jZEUzOjr",
    "outputId": "49e97ed9-59e1-4e90-e53c-08bffbc54abb"
   },
   "outputs": [
    {
     "name": "stdout",
     "output_type": "stream",
     "text": [
      "              precision    recall  f1-score   support\n",
      "\n",
      "           0       0.79      0.91      0.84       438\n",
      "           1       0.78      0.88      0.82       438\n",
      "           2       0.94      0.75      0.83       624\n",
      "\n",
      "    accuracy                           0.83      1500\n",
      "   macro avg       0.83      0.85      0.83      1500\n",
      "weighted avg       0.85      0.83      0.83      1500\n",
      "\n"
     ]
    }
   ],
   "source": [
    "from sklearn.ensemble import RandomForestClassifier\n",
    "\n",
    "\n",
    "#1. creating a Random Forest model object\n",
    "clf = RandomForestClassifier()\n",
    "\n",
    "\n",
    "#2. fit with all_train_embeddings and y_train\n",
    "clf.fit(scaled_X_train,y_train)\n",
    "\n",
    "\n",
    "#3. get the predictions for all_test_embeddings and store it in y_pred\n",
    "y_pred=clf.predict(scaled_X_test)\n",
    "\n",
    "\n",
    "#4. print the classfication report\n",
    "print(classification_report(y_pred, y_test))"
   ]
  },
  {
   "cell_type": "markdown",
   "metadata": {
    "id": "W5DsqLBp1BGR"
   },
   "source": [
    "**Attempt 5:**\n",
    "\n",
    "\n",
    "- use spacy glove embeddings for text vectorization.\n",
    "- use GradientBoostingClassifier as the classifier after applying the MinMaxscaler.\n",
    "- print the classification report."
   ]
  },
  {
   "cell_type": "code",
   "execution_count": 40,
   "metadata": {
    "colab": {
     "base_uri": "https://localhost:8080/"
    },
    "id": "YF-3k8RzzOmf",
    "outputId": "8eff0156-6b5a-445f-bc0b-69ba2af8c4bc"
   },
   "outputs": [
    {
     "name": "stdout",
     "output_type": "stream",
     "text": [
      "              precision    recall  f1-score   support\n",
      "\n",
      "           0       0.89      0.93      0.91       506\n",
      "           1       0.91      0.87      0.89       496\n",
      "           2       0.90      0.90      0.90       498\n",
      "\n",
      "    accuracy                           0.90      1500\n",
      "   macro avg       0.90      0.90      0.90      1500\n",
      "weighted avg       0.90      0.90      0.90      1500\n",
      "\n"
     ]
    }
   ],
   "source": [
    "from sklearn.ensemble import GradientBoostingClassifier\n",
    "\n",
    "\n",
    "#1. creating a GradientBoosting model object\n",
    "clf = GradientBoostingClassifier()\n",
    "\n",
    "#2. fit with all_train_embeddings and y_train\n",
    "clf.fit(X_train_2d, y_train)\n",
    "\n",
    "\n",
    "#3. get the predictions for all_test_embeddings and store it in y_pred\n",
    "y_pred = clf.predict(X_test_2d)\n",
    "\n",
    "\n",
    "#4. print the classfication report\n",
    "print(classification_report(y_test, y_pred))"
   ]
  },
  {
   "cell_type": "markdown",
   "metadata": {
    "id": "hjatMREK15os"
   },
   "source": [
    "**Print the confusion Matrix with the best model got**"
   ]
  },
  {
   "cell_type": "code",
   "execution_count": 41,
   "metadata": {
    "colab": {
     "base_uri": "https://localhost:8080/",
     "height": 460
    },
    "id": "6jlO1jfx145r",
    "outputId": "f45972c2-adb1-4bd5-e699-092400ea527d",
    "scrolled": false
   },
   "outputs": [
    {
     "data": {
      "text/plain": [
       "Text(95.72222222222221, 0.5, 'Truth')"
      ]
     },
     "execution_count": 41,
     "metadata": {},
     "output_type": "execute_result"
    },
    {
     "data": {
      "image/png": "[encoded data removed]",
      "text/plain": [
       "<Figure size 1000x700 with 2 Axes>"
      ]
     },
     "metadata": {},
     "output_type": "display_data"
    }
   ],
   "source": [
    "#finally print the confusion matrix for the best model: GradientBoostingClassifier\n",
    "\n",
    "from sklearn.metrics import confusion_matrix\n",
    "cm = confusion_matrix(y_test, y_pred)\n",
    "cm\n",
    "\n",
    "from matplotlib import pyplot as plt\n",
    "import seaborn as sn\n",
    "plt.figure(figsize = (10,7))\n",
    "sn.heatmap(cm, annot=True,fmt='d')\n",
    "plt.xlabel('Prediction')\n",
    "plt.ylabel('Truth')"
   ]
  },
  {
   "cell_type": "code",
   "execution_count": 77,
   "metadata": {
    "scrolled": false
   },
   "outputs": [
    {
     "data": {
      "text/html": [
       "<div>\n",
       "<style scoped>\n",
       "    .dataframe tbody tr th:only-of-type {\n",
       "        vertical-align: middle;\n",
       "    }\n",
       "\n",
       "    .dataframe tbody tr th {\n",
       "        vertical-align: top;\n",
       "    }\n",
       "\n",
       "    .dataframe thead th {\n",
       "        text-align: right;\n",
       "    }\n",
       "</style>\n",
       "<table border=\"1\" class=\"dataframe\">\n",
       "  <thead>\n",
       "    <tr style=\"text-align: right;\">\n",
       "      <th></th>\n",
       "      <th>text</th>\n",
       "      <th>category</th>\n",
       "      <th>Label_num</th>\n",
       "      <th>preprocessed_text</th>\n",
       "      <th>vector</th>\n",
       "    </tr>\n",
       "  </thead>\n",
       "  <tbody>\n",
       "    <tr>\n",
       "      <th>0</th>\n",
       "      <td>Larry Nassar Blames His Victims, Says He 'Was ...</td>\n",
       "      <td>CRIME</td>\n",
       "      <td>0</td>\n",
       "      <td>Larry Nassar blame victim say victimize newly ...</td>\n",
       "      <td>[-0.5585511, -0.29323253, -0.9253956, 0.189389...</td>\n",
       "    </tr>\n",
       "    <tr>\n",
       "      <th>1</th>\n",
       "      <td>Woman Beats Cancer, Dies Falling From Horse</td>\n",
       "      <td>CRIME</td>\n",
       "      <td>0</td>\n",
       "      <td>woman Beats Cancer die fall horse</td>\n",
       "      <td>[-0.73039824, -0.43196002, -1.2930516, -1.0628...</td>\n",
       "    </tr>\n",
       "    <tr>\n",
       "      <th>2</th>\n",
       "      <td>Vegas Taxpayers Could Spend A Record $750 Mill...</td>\n",
       "      <td>SPORTS</td>\n",
       "      <td>1</td>\n",
       "      <td>vegas taxpayer spend Record $ 750 million New ...</td>\n",
       "      <td>[-1.9413117, 0.121578515, -3.2996283, 1.511650...</td>\n",
       "    </tr>\n",
       "    <tr>\n",
       "      <th>3</th>\n",
       "      <td>This Richard Sherman Interception Literally Sh...</td>\n",
       "      <td>SPORTS</td>\n",
       "      <td>1</td>\n",
       "      <td>Richard Sherman Interception literally shake W...</td>\n",
       "      <td>[-1.4702771, -0.685319, 0.57398, -0.31135806, ...</td>\n",
       "    </tr>\n",
       "    <tr>\n",
       "      <th>4</th>\n",
       "      <td>7 Things That Could Totally Kill Weed Legaliza...</td>\n",
       "      <td>BUSINESS</td>\n",
       "      <td>2</td>\n",
       "      <td>7 thing totally kill Weed Legalization Buzz</td>\n",
       "      <td>[-1.037173, -1.9495698, -1.7179357, 1.2975286,...</td>\n",
       "    </tr>\n",
       "    <tr>\n",
       "      <th>5</th>\n",
       "      <td>Face to Face with SHE -- Insights from WPP Str...</td>\n",
       "      <td>BUSINESS</td>\n",
       "      <td>2</td>\n",
       "      <td>face face insight WPP Stream Health TEDMED 201...</td>\n",
       "      <td>[-0.55380756, -0.3708784, -0.4740869, 0.325349...</td>\n",
       "    </tr>\n",
       "    <tr>\n",
       "      <th>6</th>\n",
       "      <td>Samantha Ponder Is Living Her Dream In Sports ...</td>\n",
       "      <td>SPORTS</td>\n",
       "      <td>1</td>\n",
       "      <td>Samantha Ponder live dream sport athlete stay ...</td>\n",
       "      <td>[1.3936291, 2.6234117, -2.5328517, -1.0737783,...</td>\n",
       "    </tr>\n",
       "    <tr>\n",
       "      <th>7</th>\n",
       "      <td>Falling Palm Tree Kills Man Going To Funeral</td>\n",
       "      <td>CRIME</td>\n",
       "      <td>0</td>\n",
       "      <td>fall Palm Tree Kills Man go Funeral</td>\n",
       "      <td>[-2.776324, -0.2596573, -1.9545257, 0.1847043,...</td>\n",
       "    </tr>\n",
       "    <tr>\n",
       "      <th>8</th>\n",
       "      <td>Michael Phelps Qualifies For A Record Fifth Ol...</td>\n",
       "      <td>SPORTS</td>\n",
       "      <td>1</td>\n",
       "      <td>Michael Phelps qualify Record Fifth Olympics P...</td>\n",
       "      <td>[-1.5243767, 0.41246495, 0.35193002, 0.9252543...</td>\n",
       "    </tr>\n",
       "    <tr>\n",
       "      <th>9</th>\n",
       "      <td>Bodies Recovered At Scene Of New York City Bui...</td>\n",
       "      <td>CRIME</td>\n",
       "      <td>0</td>\n",
       "      <td>body recover Scene New York City Building Expl...</td>\n",
       "      <td>[-1.0415024, -1.1977613, -1.2529198, 2.9162, 3...</td>\n",
       "    </tr>\n",
       "    <tr>\n",
       "      <th>10</th>\n",
       "      <td>For the Love of Vibram FiveFingers The day aft...</td>\n",
       "      <td>BUSINESS</td>\n",
       "      <td>2</td>\n",
       "      <td>Love Vibram FiveFingers day lawsuit approach w...</td>\n",
       "      <td>[-0.018332286, 0.30020568, -0.57867575, -1.521...</td>\n",
       "    </tr>\n",
       "    <tr>\n",
       "      <th>11</th>\n",
       "      <td>Delaware Student Dies After Fight In High Scho...</td>\n",
       "      <td>CRIME</td>\n",
       "      <td>0</td>\n",
       "      <td>Delaware Student die fight High School Bathroo...</td>\n",
       "      <td>[-0.82734835, 0.0057339887, -1.8450497, 0.9265...</td>\n",
       "    </tr>\n",
       "    <tr>\n",
       "      <th>12</th>\n",
       "      <td>A Meet-up With the Mustache-free Dan Snyder of...</td>\n",
       "      <td>SPORTS</td>\n",
       "      <td>1</td>\n",
       "      <td>Meet Mustache free Dan Snyder Washington Redsk...</td>\n",
       "      <td>[-1.1383271, 0.31044024, 0.0731258, 0.06482059...</td>\n",
       "    </tr>\n",
       "    <tr>\n",
       "      <th>13</th>\n",
       "      <td>Where Does Chicago Go After More Than 750 Homi...</td>\n",
       "      <td>CRIME</td>\n",
       "      <td>0</td>\n",
       "      <td>Chicago 750 homicide city wrestle tough questi...</td>\n",
       "      <td>[0.14902925, 0.18009697, -2.7174885, 1.5864377...</td>\n",
       "    </tr>\n",
       "    <tr>\n",
       "      <th>14</th>\n",
       "      <td>Maryland Police Charge 3 Church Leaders With P...</td>\n",
       "      <td>CRIME</td>\n",
       "      <td>0</td>\n",
       "      <td>Maryland Police Charge 3 Church Leaders past a...</td>\n",
       "      <td>[-0.10835304, -0.047547795, -1.7079065, 0.1753...</td>\n",
       "    </tr>\n",
       "    <tr>\n",
       "      <th>15</th>\n",
       "      <td>What The Future of Work Will Look Like: Explor...</td>\n",
       "      <td>BUSINESS</td>\n",
       "      <td>2</td>\n",
       "      <td>future work look like explore scenario PwC Ton...</td>\n",
       "      <td>[0.55849844, 0.8158728, -0.95927536, -0.906976...</td>\n",
       "    </tr>\n",
       "    <tr>\n",
       "      <th>16</th>\n",
       "      <td>How Freelancers Can Save Thousands on Their St...</td>\n",
       "      <td>BUSINESS</td>\n",
       "      <td>2</td>\n",
       "      <td>freelancer save thousand Student Loans freelan...</td>\n",
       "      <td>[-0.48002675, 0.65696, -3.7043433, 0.22108322,...</td>\n",
       "    </tr>\n",
       "    <tr>\n",
       "      <th>17</th>\n",
       "      <td>The empowering language of creativity</td>\n",
       "      <td>BUSINESS</td>\n",
       "      <td>2</td>\n",
       "      <td>empower language creativity</td>\n",
       "      <td>[-0.68395, 0.78375596, -0.32136664, -0.9727666...</td>\n",
       "    </tr>\n",
       "    <tr>\n",
       "      <th>18</th>\n",
       "      <td>5 Stories You Didn't Know About Muhammad Ali T...</td>\n",
       "      <td>SPORTS</td>\n",
       "      <td>1</td>\n",
       "      <td>5 story know Muhammad Ali boxing legend probab...</td>\n",
       "      <td>[-0.3499633, -0.87031245, 0.37520167, -0.57321...</td>\n",
       "    </tr>\n",
       "    <tr>\n",
       "      <th>19</th>\n",
       "      <td>Here's Why The Olympic Diving Pool Turned Gree...</td>\n",
       "      <td>SPORTS</td>\n",
       "      <td>1</td>\n",
       "      <td>Olympic Diving Pool turn Green UPDATE spread e...</td>\n",
       "      <td>[0.032213304, 0.58812076, -0.35587442, 0.07100...</td>\n",
       "    </tr>\n",
       "  </tbody>\n",
       "</table>\n",
       "</div>"
      ],
      "text/plain": [
       "                                                 text  category  Label_num  \\\n",
       "0   Larry Nassar Blames His Victims, Says He 'Was ...     CRIME          0   \n",
       "1        Woman Beats Cancer, Dies Falling From Horse      CRIME          0   \n",
       "2   Vegas Taxpayers Could Spend A Record $750 Mill...    SPORTS          1   \n",
       "3   This Richard Sherman Interception Literally Sh...    SPORTS          1   \n",
       "4   7 Things That Could Totally Kill Weed Legaliza...  BUSINESS          2   \n",
       "5   Face to Face with SHE -- Insights from WPP Str...  BUSINESS          2   \n",
       "6   Samantha Ponder Is Living Her Dream In Sports ...    SPORTS          1   \n",
       "7       Falling Palm Tree Kills Man Going To Funeral      CRIME          0   \n",
       "8   Michael Phelps Qualifies For A Record Fifth Ol...    SPORTS          1   \n",
       "9   Bodies Recovered At Scene Of New York City Bui...     CRIME          0   \n",
       "10  For the Love of Vibram FiveFingers The day aft...  BUSINESS          2   \n",
       "11  Delaware Student Dies After Fight In High Scho...     CRIME          0   \n",
       "12  A Meet-up With the Mustache-free Dan Snyder of...    SPORTS          1   \n",
       "13  Where Does Chicago Go After More Than 750 Homi...     CRIME          0   \n",
       "14  Maryland Police Charge 3 Church Leaders With P...     CRIME          0   \n",
       "15  What The Future of Work Will Look Like: Explor...  BUSINESS          2   \n",
       "16  How Freelancers Can Save Thousands on Their St...  BUSINESS          2   \n",
       "17             The empowering language of creativity   BUSINESS          2   \n",
       "18  5 Stories You Didn't Know About Muhammad Ali T...    SPORTS          1   \n",
       "19  Here's Why The Olympic Diving Pool Turned Gree...    SPORTS          1   \n",
       "\n",
       "                                    preprocessed_text  \\\n",
       "0   Larry Nassar blame victim say victimize newly ...   \n",
       "1                   woman Beats Cancer die fall horse   \n",
       "2   vegas taxpayer spend Record $ 750 million New ...   \n",
       "3   Richard Sherman Interception literally shake W...   \n",
       "4         7 thing totally kill Weed Legalization Buzz   \n",
       "5   face face insight WPP Stream Health TEDMED 201...   \n",
       "6   Samantha Ponder live dream sport athlete stay ...   \n",
       "7                 fall Palm Tree Kills Man go Funeral   \n",
       "8   Michael Phelps qualify Record Fifth Olympics P...   \n",
       "9   body recover Scene New York City Building Expl...   \n",
       "10  Love Vibram FiveFingers day lawsuit approach w...   \n",
       "11  Delaware Student die fight High School Bathroo...   \n",
       "12  Meet Mustache free Dan Snyder Washington Redsk...   \n",
       "13  Chicago 750 homicide city wrestle tough questi...   \n",
       "14  Maryland Police Charge 3 Church Leaders past a...   \n",
       "15  future work look like explore scenario PwC Ton...   \n",
       "16  freelancer save thousand Student Loans freelan...   \n",
       "17                        empower language creativity   \n",
       "18  5 story know Muhammad Ali boxing legend probab...   \n",
       "19  Olympic Diving Pool turn Green UPDATE spread e...   \n",
       "\n",
       "                                               vector  \n",
       "0   [-0.5585511, -0.29323253, -0.9253956, 0.189389...  \n",
       "1   [-0.73039824, -0.43196002, -1.2930516, -1.0628...  \n",
       "2   [-1.9413117, 0.121578515, -3.2996283, 1.511650...  \n",
       "3   [-1.4702771, -0.685319, 0.57398, -0.31135806, ...  \n",
       "4   [-1.037173, -1.9495698, -1.7179357, 1.2975286,...  \n",
       "5   [-0.55380756, -0.3708784, -0.4740869, 0.325349...  \n",
       "6   [1.3936291, 2.6234117, -2.5328517, -1.0737783,...  \n",
       "7   [-2.776324, -0.2596573, -1.9545257, 0.1847043,...  \n",
       "8   [-1.5243767, 0.41246495, 0.35193002, 0.9252543...  \n",
       "9   [-1.0415024, -1.1977613, -1.2529198, 2.9162, 3...  \n",
       "10  [-0.018332286, 0.30020568, -0.57867575, -1.521...  \n",
       "11  [-0.82734835, 0.0057339887, -1.8450497, 0.9265...  \n",
       "12  [-1.1383271, 0.31044024, 0.0731258, 0.06482059...  \n",
       "13  [0.14902925, 0.18009697, -2.7174885, 1.5864377...  \n",
       "14  [-0.10835304, -0.047547795, -1.7079065, 0.1753...  \n",
       "15  [0.55849844, 0.8158728, -0.95927536, -0.906976...  \n",
       "16  [-0.48002675, 0.65696, -3.7043433, 0.22108322,...  \n",
       "17  [-0.68395, 0.78375596, -0.32136664, -0.9727666...  \n",
       "18  [-0.3499633, -0.87031245, 0.37520167, -0.57321...  \n",
       "19  [0.032213304, 0.58812076, -0.35587442, 0.07100...  "
      ]
     },
     "execution_count": 77,
     "metadata": {},
     "output_type": "execute_result"
    }
   ],
   "source": [
    "df.head(20)"
   ]
  },
  {
   "cell_type": "code",
   "execution_count": 97,
   "metadata": {},
   "outputs": [],
   "source": [
    "txt = 'Police confirmed ex-deputy minister went to Myanmar on real estate matters, says CID director'\n",
    "doc = nlp(txt)\n",
    "\n",
    "vector_sum = sum(token.vector for token in doc)\n",
    "averaged_vector = vector_sum / len(doc)\n",
    "\n",
    "predicted_label = clf.predict(averaged_vector.reshape(1, -1))\n"
   ]
  },
  {
   "cell_type": "code",
   "execution_count": 98,
   "metadata": {},
   "outputs": [
    {
     "data": {
      "text/plain": [
       "'Crime'"
      ]
     },
     "execution_count": 98,
     "metadata": {},
     "output_type": "execute_result"
    }
   ],
   "source": [
    "label_to_category = {0: 'Crime', 1: 'Sports', 2: 'Business'}\n",
    "label_to_category.get(predicted_label[0])"
   ]
  },
  {
   "cell_type": "markdown",
   "metadata": {},
   "source": [
    "## [**Solution**](./spacy_word_embeddings_solution.ipynb)"
   ]
  },
  {
   "cell_type": "code",
   "execution_count": null,
   "metadata": {},
   "outputs": [],
   "source": []
  }
 ],
 "metadata": {
  "colab": {
   "collapsed_sections": [],
   "provenance": []
  },
  "kernelspec": {
   "display_name": "Python 3 (ipykernel)",
   "language": "python",
   "name": "python3"
  },
  "language_info": {
   "codemirror_mode": {
    "name": "ipython",
    "version": 3
   },
   "file_extension": ".py",
   "mimetype": "text/x-python",
   "name": "python",
   "nbconvert_exporter": "python",
   "pygments_lexer": "ipython3",
   "version": "3.11.5"
  }
 },
 "nbformat": 4,
 "nbformat_minor": 1
}

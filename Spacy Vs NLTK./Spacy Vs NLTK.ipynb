{
 "cells": [
  {
   "cell_type": "markdown",
   "id": "0441d63a",
   "metadata": {},
   "source": [
    "## Spacy (Object Oriented Programming)\n",
    "\n",
    "Provides most efficient NLP algorithm for a given task Hence if you care about the end result, go with Spacy. For APP Developer"
   ]
  },
  {
   "cell_type": "code",
   "execution_count": 5,
   "id": "2a835d6a",
   "metadata": {},
   "outputs": [],
   "source": [
    "import spacy"
   ]
  },
  {
   "cell_type": "markdown",
   "id": "fdf2b7b0",
   "metadata": {},
   "source": [
    "### Seperate in sentence"
   ]
  },
  {
   "cell_type": "code",
   "execution_count": 14,
   "id": "1f4edb44",
   "metadata": {},
   "outputs": [
    {
     "name": "stdout",
     "output_type": "stream",
     "text": [
      "Dr. Strange love pav bhaji etc. of mumbai.\n",
      "Hulk loves chaat i.e. delhi\n"
     ]
    }
   ],
   "source": [
    "nlp = spacy.load(\"en_core_web_sm\")\n",
    "\n",
    "doc = nlp(\"Dr. Strange love pav bhaji etc. of mumbai. Hulk loves chaat i.e. delhi\")\n",
    "\n",
    "for sentence in doc.sents:\n",
    "    print(sentence)"
   ]
  },
  {
   "cell_type": "markdown",
   "id": "f4d4399b",
   "metadata": {},
   "source": [
    "### Seperate in word"
   ]
  },
  {
   "cell_type": "code",
   "execution_count": 15,
   "id": "ed209284",
   "metadata": {},
   "outputs": [
    {
     "name": "stdout",
     "output_type": "stream",
     "text": [
      "Dr.\n",
      "Strange\n",
      "love\n",
      "pav\n",
      "bhaji\n",
      "etc\n",
      ".\n",
      "of\n",
      "mumbai\n",
      ".\n",
      "Hulk\n",
      "loves\n",
      "chaat\n",
      "i.e.\n",
      "delhi\n"
     ]
    }
   ],
   "source": [
    "for sentence in doc.sents:\n",
    "    for word in sentence:\n",
    "        print(word)"
   ]
  },
  {
   "cell_type": "markdown",
   "id": "c7e41631",
   "metadata": {},
   "source": [
    "## NLTK\n",
    "\n",
    "Provides access to many algorithms. If you care about specific algo and customizations go with NLTK"
   ]
  },
  {
   "cell_type": "code",
   "execution_count": 20,
   "id": "63298619",
   "metadata": {},
   "outputs": [
    {
     "name": "stderr",
     "output_type": "stream",
     "text": [
      "[nltk_data] Downloading package punkt to\n",
      "[nltk_data]     C:\\Users\\VeeHa\\AppData\\Roaming\\nltk_data...\n",
      "[nltk_data]   Unzipping tokenizers\\punkt.zip.\n"
     ]
    },
    {
     "data": {
      "text/plain": [
       "True"
      ]
     },
     "execution_count": 20,
     "metadata": {},
     "output_type": "execute_result"
    }
   ],
   "source": [
    "import nltk\n",
    "\n",
    "nltk.download('punkt')"
   ]
  },
  {
   "cell_type": "code",
   "execution_count": 21,
   "id": "416d57e2",
   "metadata": {},
   "outputs": [
    {
     "data": {
      "text/plain": [
       "['Dr.',\n",
       " 'Strange love pav bhaji etc.',\n",
       " 'of mumbai.',\n",
       " 'Hulk loves chaat i.e.',\n",
       " 'delhi']"
      ]
     },
     "execution_count": 21,
     "metadata": {},
     "output_type": "execute_result"
    }
   ],
   "source": [
    "from nltk.tokenize import sent_tokenize\n",
    "\n",
    "sent_tokenize(\"Dr. Strange love pav bhaji etc. of mumbai. Hulk loves chaat i.e. delhi\")"
   ]
  },
  {
   "cell_type": "code",
   "execution_count": 22,
   "id": "94622b01",
   "metadata": {},
   "outputs": [
    {
     "data": {
      "text/plain": [
       "['Dr',\n",
       " '.',\n",
       " 'Strange',\n",
       " 'love',\n",
       " 'pav',\n",
       " 'bhaji',\n",
       " 'etc',\n",
       " '.',\n",
       " 'of',\n",
       " 'mumbai',\n",
       " '.',\n",
       " 'Hulk',\n",
       " 'loves',\n",
       " 'chaat',\n",
       " 'i.e',\n",
       " '.',\n",
       " 'delhi']"
      ]
     },
     "execution_count": 22,
     "metadata": {},
     "output_type": "execute_result"
    }
   ],
   "source": [
    "from nltk.tokenize import word_tokenize\n",
    "\n",
    "word_tokenize(\"Dr. Strange love pav bhaji etc. of mumbai. Hulk loves chaat i.e. delhi\")"
   ]
  },
  {
   "cell_type": "code",
   "execution_count": null,
   "id": "bb96073a",
   "metadata": {},
   "outputs": [],
   "source": []
  }
 ],
 "metadata": {
  "kernelspec": {
   "display_name": "Python 3 (ipykernel)",
   "language": "python",
   "name": "python3"
  },
  "language_info": {
   "codemirror_mode": {
    "name": "ipython",
    "version": 3
   },
   "file_extension": ".py",
   "mimetype": "text/x-python",
   "name": "python",
   "nbconvert_exporter": "python",
   "pygments_lexer": "ipython3",
   "version": "3.11.5"
  }
 },
 "nbformat": 4,
 "nbformat_minor": 5
}

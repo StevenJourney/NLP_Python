{
 "cells": [
  {
   "cell_type": "markdown",
   "id": "e89b93a0",
   "metadata": {},
   "source": [
    "## Regular Expression Tutorial"
   ]
  },
  {
   "cell_type": "code",
   "execution_count": 1,
   "id": "5e72b60f",
   "metadata": {},
   "outputs": [],
   "source": [
    "import re"
   ]
  },
  {
   "cell_type": "code",
   "execution_count": 9,
   "id": "e3ce00e4",
   "metadata": {},
   "outputs": [],
   "source": [
    "chat1 = 'codebasics: you ask lot of questions 1234567012, abc@xyz.com, 9998881234'\n",
    "chat2 = 'codebasics: here it is: (123)-567-8912, abc@xyz.com'\n",
    "chat3 = 'codebadics: yes, phone: 1234567812 email: abc@xyz.com'"
   ]
  },
  {
   "cell_type": "markdown",
   "id": "ae5851b8",
   "metadata": {},
   "source": [
    "### Looking for phone number"
   ]
  },
  {
   "cell_type": "code",
   "execution_count": 10,
   "id": "2236ed48",
   "metadata": {},
   "outputs": [
    {
     "data": {
      "text/plain": [
       "['1234567012', '9998881234']"
      ]
     },
     "execution_count": 10,
     "metadata": {},
     "output_type": "execute_result"
    }
   ],
   "source": [
    "pattern = '\\d{10}' # to find the pattern on continuous 10 digit numbers\n",
    "\n",
    "matches = re.findall(pattern,chat1)\n",
    "matches"
   ]
  },
  {
   "cell_type": "code",
   "execution_count": null,
   "id": "dd33344b",
   "metadata": {},
   "outputs": [],
   "source": [
    "pattern = '\\d{10}' # to find the pattern on continuous 10 digit numbers\n",
    "\n",
    "matches = re.findall(pattern,chat1)\n",
    "matches"
   ]
  },
  {
   "cell_type": "code",
   "execution_count": 13,
   "id": "7ddcb9ee",
   "metadata": {},
   "outputs": [
    {
     "data": {
      "text/plain": [
       "['(123)-567-8912']"
      ]
     },
     "execution_count": 13,
     "metadata": {},
     "output_type": "execute_result"
    }
   ],
   "source": [
    "pattern = '\\d{10}|\\(\\d{3}\\)-\\d{3}-\\d{4}' # to find the pattern on continuous 10 digit numbers & pattern (xxx)-xxx-xxxx\n",
    "\n",
    "matches = re.findall(pattern,chat2)\n",
    "matches"
   ]
  },
  {
   "cell_type": "markdown",
   "id": "e84a730a",
   "metadata": {},
   "source": [
    "### Looking for emails"
   ]
  },
  {
   "cell_type": "code",
   "execution_count": 15,
   "id": "470e15c3",
   "metadata": {
    "scrolled": true
   },
   "outputs": [
    {
     "data": {
      "text/plain": [
       "'abc@xyz.com'"
      ]
     },
     "execution_count": 15,
     "metadata": {},
     "output_type": "execute_result"
    }
   ],
   "source": [
    "pattern = '\\w+@\\w+\\.[a-zA-Z]*' # to find the pattern on continuous 10 digit numbers & pattern (xxx)-xxx-xxxx\n",
    "\n",
    "matches = re.findall(pattern,chat2)\n",
    "email = matches[0]\n",
    "email"
   ]
  },
  {
   "cell_type": "markdown",
   "id": "31823a86",
   "metadata": {},
   "source": [
    "### Looking for order number (e.g. order# 412889912)"
   ]
  },
  {
   "cell_type": "code",
   "execution_count": 21,
   "id": "180545de",
   "metadata": {},
   "outputs": [],
   "source": [
    "chat4 = 'codebasics: Hello, I am having an issue with my order # 412889912'\n",
    "chat5 = 'I have a problem with m order number 412889912'\n",
    "chat6 = 'My order 412889912 is having an issue, I was charger $300 when online it says $280'"
   ]
  },
  {
   "cell_type": "code",
   "execution_count": 22,
   "id": "99bd1fd0",
   "metadata": {},
   "outputs": [],
   "source": [
    "pattern = 'order[^\\d]*(\\d*)'"
   ]
  },
  {
   "cell_type": "code",
   "execution_count": 24,
   "id": "f184e3e8",
   "metadata": {},
   "outputs": [
    {
     "data": {
      "text/plain": [
       "['412889912']"
      ]
     },
     "execution_count": 24,
     "metadata": {},
     "output_type": "execute_result"
    }
   ],
   "source": [
    "matches = re.findall(pattern,chat6)\n",
    "matches"
   ]
  },
  {
   "cell_type": "markdown",
   "id": "44f9322b",
   "metadata": {},
   "source": [
    "### Scrapping from texts"
   ]
  },
  {
   "cell_type": "code",
   "execution_count": 86,
   "id": "1c72414b",
   "metadata": {},
   "outputs": [],
   "source": [
    "text = ''''In office\n",
    "January 20, 2009 – January 20, 2017\n",
    "President\tBarack Obama\n",
    "Preceded by\tDick Cheney\n",
    "Succeeded by\tMike Pence\n",
    "United States Senator\n",
    "from Delaware\n",
    "In office\n",
    "January 3, 1973 – January 15, 2009\n",
    "Preceded by\tJ. Caleb Boggs\n",
    "Succeeded by\tTed Kaufman\n",
    "Personal details\n",
    "Born\tJoseph Robinette Biden Jr.\n",
    "November 20, 1942 (age 81)\n",
    "Scranton, Pennsylvania, U.S.\n",
    "Political party\tDemocratic (since 1969)\n",
    "Other political\n",
    "affiliations\tIndependent (before 1969)\n",
    "Spouses\t\n",
    "Neilia Hunter\n",
    "​\n",
    "​(m. 1966; died 1972)​\n",
    "Jill Jacobs ​(m. 1977)​\n",
    "Children\t\n",
    "BeauHunterNaomiAshley\n",
    "Relatives\tBiden family\n",
    "Residence\tWhite House\n",
    "Education\t\n",
    "University of Delaware (BA)\n",
    "Syracuse University (JD)\n",
    "Occupation\t\n",
    "Politicianlawyerauthor\n",
    "Awards\tFull list\n",
    "Signature\tCursive signature in ink'''"
   ]
  },
  {
   "cell_type": "code",
   "execution_count": 47,
   "id": "5516d9ed",
   "metadata": {},
   "outputs": [],
   "source": [
    "pattern1 = 'age (\\d+)' # retriving the age"
   ]
  },
  {
   "cell_type": "code",
   "execution_count": 48,
   "id": "99c7369e",
   "metadata": {
    "scrolled": true
   },
   "outputs": [
    {
     "data": {
      "text/plain": [
       "'53'"
      ]
     },
     "execution_count": 48,
     "metadata": {},
     "output_type": "execute_result"
    }
   ],
   "source": [
    "age = re.findall(pattern1, text)\n",
    "age[0]"
   ]
  },
  {
   "cell_type": "code",
   "execution_count": 51,
   "id": "7b61623f",
   "metadata": {},
   "outputs": [],
   "source": [
    "pattern2 = 'Born(.*)' # retriving the born place"
   ]
  },
  {
   "cell_type": "code",
   "execution_count": 52,
   "id": "fb862061",
   "metadata": {},
   "outputs": [
    {
     "data": {
      "text/plain": [
       "'Elon Reeve Musk'"
      ]
     },
     "execution_count": 52,
     "metadata": {},
     "output_type": "execute_result"
    }
   ],
   "source": [
    "matches= re.findall(pattern2, text)\n",
    "born_place = matches[0].strip()\n",
    "born_place\n"
   ]
  },
  {
   "cell_type": "code",
   "execution_count": 53,
   "id": "f33d98ca",
   "metadata": {},
   "outputs": [],
   "source": [
    "pattern3 = 'Born.*\\n(.*)\\(age' # retriving the birthday"
   ]
  },
  {
   "cell_type": "code",
   "execution_count": 55,
   "id": "54b7476b",
   "metadata": {},
   "outputs": [
    {
     "data": {
      "text/plain": [
       "'June 28, 1971'"
      ]
     },
     "execution_count": 55,
     "metadata": {},
     "output_type": "execute_result"
    }
   ],
   "source": [
    "matches= re.findall(pattern3, text)\n",
    "birthday = matches[0].strip()\n",
    "birthday"
   ]
  },
  {
   "cell_type": "code",
   "execution_count": 57,
   "id": "19bb76e3",
   "metadata": {},
   "outputs": [
    {
     "data": {
      "text/plain": [
       "'Pretoria, Transvaal, South Africa'"
      ]
     },
     "execution_count": 57,
     "metadata": {},
     "output_type": "execute_result"
    }
   ],
   "source": [
    "pattern4 = '\\(age.*\\n(.*)' # retriving the birth place\n",
    "birth_place = re.findall(pattern4, text)\n",
    "birth_place[0].strip()"
   ]
  },
  {
   "cell_type": "code",
   "execution_count": 58,
   "id": "39b7fbc9",
   "metadata": {},
   "outputs": [],
   "source": [
    "def get_pattern_match(pattern,text):\n",
    "    matches = re.findall(pattern, text)\n",
    "    if matches:\n",
    "        return matches[0]"
   ]
  },
  {
   "cell_type": "code",
   "execution_count": 59,
   "id": "02bb81b9",
   "metadata": {},
   "outputs": [
    {
     "data": {
      "text/plain": [
       "'53'"
      ]
     },
     "execution_count": 59,
     "metadata": {},
     "output_type": "execute_result"
    }
   ],
   "source": [
    "get_pattern_match(pattern1,text)"
   ]
  },
  {
   "cell_type": "code",
   "execution_count": 87,
   "id": "e1e51095",
   "metadata": {},
   "outputs": [],
   "source": [
    "def get_personal_information(text):\n",
    "    age = get_pattern_match('age (\\d+)', text)\n",
    "    full_name = get_pattern_match('Born(.*)',text)\n",
    "    birth_date = get_pattern_match('Born.*\\n(.*)\\(age',text)\n",
    "    birth_place = get_pattern_match('\\(age.*\\n(.*)',text)\n",
    "    \n",
    "    return {\"Name\" : full_name.strip(),\n",
    "            \"Age\"  : int(age),\n",
    "            \"Birthday\" : birth_date.strip(),\n",
    "            \"Birth place\" : birth_place.strip()}"
   ]
  },
  {
   "cell_type": "code",
   "execution_count": 88,
   "id": "159a698a",
   "metadata": {},
   "outputs": [
    {
     "data": {
      "text/plain": [
       "{'Name': 'Joseph Robinette Biden Jr.',\n",
       " 'Age': 81,\n",
       " 'Birthday': 'November 20, 1942',\n",
       " 'Birth place': 'Scranton, Pennsylvania, U.S.'}"
      ]
     },
     "execution_count": 88,
     "metadata": {},
     "output_type": "execute_result"
    }
   ],
   "source": [
    "get_personal_information(text)"
   ]
  },
  {
   "cell_type": "code",
   "execution_count": null,
   "id": "32d6a204",
   "metadata": {},
   "outputs": [],
   "source": []
  }
 ],
 "metadata": {
  "kernelspec": {
   "display_name": "Python 3 (ipykernel)",
   "language": "python",
   "name": "python3"
  },
  "language_info": {
   "codemirror_mode": {
    "name": "ipython",
    "version": 3
   },
   "file_extension": ".py",
   "mimetype": "text/x-python",
   "name": "python",
   "nbconvert_exporter": "python",
   "pygments_lexer": "ipython3",
   "version": "3.11.5"
  }
 },
 "nbformat": 4,
 "nbformat_minor": 5
}

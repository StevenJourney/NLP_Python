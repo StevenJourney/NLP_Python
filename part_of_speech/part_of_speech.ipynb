{
 "cells": [
  {
   "cell_type": "markdown",
   "id": "540d44dd",
   "metadata": {},
   "source": [
    "link: https://www.youtube.com/watch?v=gdHWoQWZGkk&list=PLeo1K3hjS3uuvuAXhYjV2lMEShq2UYSwX&index=11"
   ]
  },
  {
   "cell_type": "code",
   "execution_count": 4,
   "id": "bb8ed4f4",
   "metadata": {},
   "outputs": [],
   "source": [
    "import spacy\n",
    "\n",
    "nlp = spacy.load(\"en_core_web_sm\")"
   ]
  },
  {
   "cell_type": "code",
   "execution_count": 12,
   "id": "f2ff693f",
   "metadata": {},
   "outputs": [
    {
     "name": "stdout",
     "output_type": "stream",
     "text": [
      "I : PRON | pronoun\n",
      "flew : VERB | verb\n",
      "to : ADP | adposition\n",
      "mars : NOUN | noun\n",
      "yesterday : NOUN | noun\n",
      ". : PUNCT | punctuation\n",
      "He : PRON | pronoun\n",
      "carried : VERB | verb\n",
      "biryani : ADJ | adjective\n",
      "masala : NOUN | noun\n",
      "with : ADP | adposition\n",
      "him : PRON | pronoun\n",
      "in : ADP | adposition\n",
      "Malaysia : PROPN | proper noun\n"
     ]
    }
   ],
   "source": [
    "doc = nlp(\"I flew to mars yesterday. He carried biryani masala with him in Malaysia\")\n",
    "\n",
    "for token in doc:\n",
    "    print(f\"{token} : {token.pos_} | {spacy.explain(token.pos_)}\")"
   ]
  },
  {
   "cell_type": "code",
   "execution_count": 20,
   "id": "9a5f28af",
   "metadata": {},
   "outputs": [
    {
     "name": "stdout",
     "output_type": "stream",
     "text": [
      "Wow : INTJ | interjection | UH : interjection\n",
      "! : PUNCT | punctuation | . : punctuation mark, sentence closer\n",
      "Dr. : PROPN | proper noun | NNP : noun, proper singular\n",
      "Strange : PROPN | proper noun | NNP : noun, proper singular\n",
      "eaten : VERB | verb | VBD : verb, past tense\n",
      "265 : NUM | numeral | CD : cardinal number\n",
      "millio : NOUN | noun | NN : noun, singular or mass\n",
      "on : ADP | adposition | IN : conjunction, subordinating or preposition\n",
      "the : DET | determiner | DT : determiner\n",
      "very : ADV | adverb | RB : adverb\n",
      "first : ADJ | adjective | JJ : adjective (English), other noun-modifier (Chinese)\n",
      "day : NOUN | noun | NN : noun, singular or mass\n",
      ". : PUNCT | punctuation | . : punctuation mark, sentence closer\n"
     ]
    }
   ],
   "source": [
    "doc = nlp(\"Wow! Dr. Strange eaten 265 millio on the very first day.\")\n",
    "\n",
    "for token in doc:\n",
    "    print(f\"{token} : {token.pos_} | {spacy.explain(token.pos_)} | {token.tag_} : {spacy.explain(token.tag_)}\")"
   ]
  },
  {
   "cell_type": "code",
   "execution_count": 21,
   "id": "bbf09566",
   "metadata": {},
   "outputs": [
    {
     "name": "stdout",
     "output_type": "stream",
     "text": [
      "He : PRON | pronoun | PRP : pronoun, personal\n",
      "quits : VERB | verb | VBZ : verb, 3rd person singular present\n",
      "the : DET | determiner | DT : determiner\n",
      "job : NOUN | noun | NN : noun, singular or mass\n"
     ]
    }
   ],
   "source": [
    "doc = nlp(\"He quits the job\")\n",
    "\n",
    "for token in doc:\n",
    "    print(f\"{token} : {token.pos_} | {spacy.explain(token.pos_)} | {token.tag_} : {spacy.explain(token.tag_)}\")"
   ]
  },
  {
   "cell_type": "markdown",
   "id": "2d9aa357",
   "metadata": {},
   "source": [
    "### Make some analysis on paragraph online"
   ]
  },
  {
   "cell_type": "code",
   "execution_count": 22,
   "id": "6b525cdd",
   "metadata": {},
   "outputs": [],
   "source": [
    "earning_text = '''We expect third quarter 2024 total revenue to be in the range of $38.5-41 billion. Our guidance assumes foreign currency is a 2% headwind to year-over-year total revenue growth, based on current exchange rates.\n",
    "\n",
    "We expect full-year 2024 total expenses to be in the range of $96-99 billion, unchanged from our prior outlook. For Reality Labs, we continue to expect 2024 operating losses to increase meaningfully year-over-year due to our ongoing product development efforts and investments to further scale our ecosystem.\n",
    "\n",
    "While we do not intend to provide any quantitative guidance for 2025 until the fourth quarter call, we expect infrastructure costs will be a significant driver of expense growth next year as we recognize depreciation and operating costs associated with our expanded infrastructure footprint.\n",
    "\n",
    "We anticipate our full-year 2024 capital expenditures will be in the range of $37-40 billion, updated from our prior range of $35-40 billion. While we continue to refine our plans for next year, we currently expect significant capital expenditures growth in 2025 as we invest to support our artificial intelligence research and product development efforts.\n",
    "\n",
    "Absent any changes to our tax landscape, we expect our full-year 2024 tax rate to be in the mid-teens.\n",
    "\n",
    "In addition, we continue to monitor an active regulatory landscape, including the increasing legal and regulatory headwinds in the EU and the U.S. that could significantly impact our business and our financial results.'''"
   ]
  },
  {
   "cell_type": "code",
   "execution_count": 28,
   "id": "4d2b6354",
   "metadata": {},
   "outputs": [
    {
     "data": {
      "text/plain": [
       "[We,\n",
       " expect,\n",
       " third,\n",
       " quarter,\n",
       " 2024,\n",
       " total,\n",
       " revenue,\n",
       " to,\n",
       " be,\n",
       " in,\n",
       " the,\n",
       " range,\n",
       " of,\n",
       " $,\n",
       " 38.5,\n",
       " 41,\n",
       " billion,\n",
       " Our,\n",
       " guidance,\n",
       " assumes,\n",
       " foreign,\n",
       " currency,\n",
       " is,\n",
       " a,\n",
       " 2,\n",
       " %,\n",
       " headwind,\n",
       " to,\n",
       " year,\n",
       " over,\n",
       " year,\n",
       " total,\n",
       " revenue,\n",
       " growth,\n",
       " based,\n",
       " on,\n",
       " current,\n",
       " exchange,\n",
       " rates,\n",
       " We,\n",
       " expect,\n",
       " full,\n",
       " year,\n",
       " 2024,\n",
       " total,\n",
       " expenses,\n",
       " to,\n",
       " be,\n",
       " in,\n",
       " the,\n",
       " range,\n",
       " of,\n",
       " $,\n",
       " 96,\n",
       " -,\n",
       " 99,\n",
       " billion,\n",
       " unchanged,\n",
       " from,\n",
       " our,\n",
       " prior,\n",
       " outlook,\n",
       " For,\n",
       " Reality,\n",
       " Labs,\n",
       " we,\n",
       " continue,\n",
       " to,\n",
       " expect,\n",
       " 2024,\n",
       " operating,\n",
       " losses,\n",
       " to,\n",
       " increase,\n",
       " meaningfully,\n",
       " year,\n",
       " over,\n",
       " year,\n",
       " due,\n",
       " to,\n",
       " our,\n",
       " ongoing,\n",
       " product,\n",
       " development,\n",
       " efforts,\n",
       " and,\n",
       " investments,\n",
       " to,\n",
       " further,\n",
       " scale,\n",
       " our,\n",
       " ecosystem,\n",
       " While,\n",
       " we,\n",
       " do,\n",
       " not,\n",
       " intend,\n",
       " to,\n",
       " provide,\n",
       " any,\n",
       " quantitative,\n",
       " guidance,\n",
       " for,\n",
       " 2025,\n",
       " until,\n",
       " the,\n",
       " fourth,\n",
       " quarter,\n",
       " call,\n",
       " we,\n",
       " expect,\n",
       " infrastructure,\n",
       " costs,\n",
       " will,\n",
       " be,\n",
       " a,\n",
       " significant,\n",
       " driver,\n",
       " of,\n",
       " expense,\n",
       " growth,\n",
       " next,\n",
       " year,\n",
       " as,\n",
       " we,\n",
       " recognize,\n",
       " depreciation,\n",
       " and,\n",
       " operating,\n",
       " costs,\n",
       " associated,\n",
       " with,\n",
       " our,\n",
       " expanded,\n",
       " infrastructure,\n",
       " footprint,\n",
       " We,\n",
       " anticipate,\n",
       " our,\n",
       " full,\n",
       " year,\n",
       " 2024,\n",
       " capital,\n",
       " expenditures,\n",
       " will,\n",
       " be,\n",
       " in,\n",
       " the,\n",
       " range,\n",
       " of,\n",
       " $,\n",
       " 37,\n",
       " -,\n",
       " 40,\n",
       " billion,\n",
       " updated,\n",
       " from,\n",
       " our,\n",
       " prior,\n",
       " range,\n",
       " of,\n",
       " $,\n",
       " 35,\n",
       " -,\n",
       " 40,\n",
       " billion,\n",
       " While,\n",
       " we,\n",
       " continue,\n",
       " to,\n",
       " refine,\n",
       " our,\n",
       " plans,\n",
       " for,\n",
       " next,\n",
       " year,\n",
       " we,\n",
       " currently,\n",
       " expect,\n",
       " significant,\n",
       " capital,\n",
       " expenditures,\n",
       " growth,\n",
       " in,\n",
       " 2025,\n",
       " as,\n",
       " we,\n",
       " invest,\n",
       " to,\n",
       " support,\n",
       " our,\n",
       " artificial,\n",
       " intelligence,\n",
       " research,\n",
       " and,\n",
       " product,\n",
       " development,\n",
       " efforts,\n",
       " Absent,\n",
       " any,\n",
       " changes,\n",
       " to,\n",
       " our,\n",
       " tax,\n",
       " landscape,\n",
       " we,\n",
       " expect,\n",
       " our,\n",
       " full,\n",
       " year,\n",
       " 2024,\n",
       " tax,\n",
       " rate,\n",
       " to,\n",
       " be,\n",
       " in,\n",
       " the,\n",
       " mid,\n",
       " -,\n",
       " teens,\n",
       " In,\n",
       " addition,\n",
       " we,\n",
       " continue,\n",
       " to,\n",
       " monitor,\n",
       " an,\n",
       " active,\n",
       " regulatory,\n",
       " landscape,\n",
       " including,\n",
       " the,\n",
       " increasing,\n",
       " legal,\n",
       " and,\n",
       " regulatory,\n",
       " headwinds,\n",
       " in,\n",
       " the,\n",
       " EU,\n",
       " and,\n",
       " the,\n",
       " U.S.,\n",
       " that,\n",
       " could,\n",
       " significantly,\n",
       " impact,\n",
       " our,\n",
       " business,\n",
       " and,\n",
       " our,\n",
       " financial,\n",
       " results]"
      ]
     },
     "execution_count": 28,
     "metadata": {},
     "output_type": "execute_result"
    }
   ],
   "source": [
    "doc = nlp(earning_text)\n",
    "\n",
    "filtered_tokens = []\n",
    "\n",
    "for token in doc:\n",
    "    if token.pos_ not in [\"SPACE\",\"X\",\"PUNCT\"]:\n",
    "        filtered_tokens.append(token)  \n",
    "filtered_tokens"
   ]
  },
  {
   "cell_type": "code",
   "execution_count": 31,
   "id": "a5709ee2",
   "metadata": {},
   "outputs": [
    {
     "data": {
      "text/plain": [
       "{95: 26,\n",
       " 100: 28,\n",
       " 84: 26,\n",
       " 92: 69,\n",
       " 93: 20,\n",
       " 94: 11,\n",
       " 87: 10,\n",
       " 85: 25,\n",
       " 90: 13,\n",
       " 99: 7,\n",
       " 97: 26,\n",
       " 103: 5,\n",
       " 96: 4,\n",
       " 86: 4,\n",
       " 89: 6,\n",
       " 98: 4}"
      ]
     },
     "execution_count": 31,
     "metadata": {},
     "output_type": "execute_result"
    }
   ],
   "source": [
    "count = doc.count_by(spacy.attrs.POS)\n",
    "count"
   ]
  },
  {
   "cell_type": "code",
   "execution_count": 32,
   "id": "6e37a46e",
   "metadata": {},
   "outputs": [
    {
     "data": {
      "text/plain": [
       "'PROPN'"
      ]
     },
     "execution_count": 32,
     "metadata": {},
     "output_type": "execute_result"
    }
   ],
   "source": [
    "doc.vocab[96].text"
   ]
  },
  {
   "cell_type": "code",
   "execution_count": 35,
   "id": "ff364e3b",
   "metadata": {},
   "outputs": [
    {
     "name": "stdout",
     "output_type": "stream",
     "text": [
      "PRON  |  26\n",
      "VERB  |  28\n",
      "ADJ  |  26\n",
      "NOUN  |  69\n",
      "NUM  |  20\n",
      "PART  |  11\n",
      "AUX  |  10\n",
      "ADP  |  25\n",
      "DET  |  13\n",
      "SYM  |  7\n",
      "PUNCT  |  26\n",
      "SPACE  |  5\n",
      "PROPN  |  4\n",
      "ADV  |  4\n",
      "CCONJ  |  6\n",
      "SCONJ  |  4\n"
     ]
    }
   ],
   "source": [
    "for k,v in count.items():\n",
    "    print(doc.vocab[k].text , \" | \", v)"
   ]
  },
  {
   "cell_type": "markdown",
   "id": "bed97fbb",
   "metadata": {},
   "source": [
    "### Excercise for Spacy POS tutorial\n",
    "\n",
    "1. You are parsing a news story from cnbc.com. News story is stores in news_story.txt which is available in this same folder on github. You need to,\n",
    "\n",
    "Extract all NOUN tokens from this story. You will have to read the file in python first to collect all the text and then extract NOUNs in a python list\n",
    "\n",
    "Extract all numbers (NUM POS type) in a python list\n",
    "\n",
    "Print a count of all POS tags in this story"
   ]
  },
  {
   "cell_type": "code",
   "execution_count": 49,
   "id": "7ac81ff7",
   "metadata": {},
   "outputs": [
    {
     "name": "stdout",
     "output_type": "stream",
     "text": [
      "Inflation rose again in April, continuing a climb that has pushed consumers to the brink and is threatening the economic expansion, the Bureau of Labor Statistics reported Wednesday.\n",
      "\n",
      "The consumer price index, a broad-based measure of prices for goods and services, increased 8.3% from a year ago, higher than the Dow Jones estimate for an 8.1% gain. That represented a slight ease from Marchâ€™s peak but was still close to the highest level since the summer of 1982.\n",
      "\n",
      "Removing volatile food and energy prices, so-called core CPI still rose 6.2%, against expectations for a 6% gain, clouding hopes that inflation had peaked in March.\n",
      "\n",
      "The month-over-month gains also were higher than expectations â€” 0.3% on headline CPI versus the 0.2% estimate and a 0.6% increase for core, against the outlook for a 0.4% gain.\n",
      "\n",
      "The price gains also meant that workers continued to lose ground. Real wages adjusted for inflation decreased 0.1% on the month despite a nominal increase of 0.3% in average hourly earnings. Over the past year, real earnings have dropped 2.6% even though average hourly earnings are up 5.5%.\n",
      "\n",
      "Inflation has been the single biggest threat to a recovery that began early in the Covid pandemic and saw the economy in 2021 stage its biggest single-year growth level since 1984. Rising prices at the pump and in grocery stores have been one problem, but inflation has spread beyond those two areas into housing, auto sales and a host of other areas.\n",
      "\n",
      "Federal Reserve officials have responded to the problem with two interest rate hikes so far this year and pledges of more until inflation comes down to the central bankâ€™s 2% goal. However, Wednesdayâ€™s data shows that the Fed has a big job ahead.\n",
      "\n",
      "Credits: cnbc.com\n"
     ]
    }
   ],
   "source": [
    "with open(\"news_story.txt\") as f:\n",
    "    text = f.read()\n",
    "print(text)"
   ]
  },
  {
   "cell_type": "code",
   "execution_count": 52,
   "id": "ca150537",
   "metadata": {},
   "outputs": [
    {
     "data": {
      "text/plain": [
       "[Inflation,\n",
       " climb,\n",
       " consumers,\n",
       " brink,\n",
       " expansion,\n",
       " consumer,\n",
       " price,\n",
       " index,\n",
       " measure,\n",
       " prices]"
      ]
     },
     "execution_count": 52,
     "metadata": {},
     "output_type": "execute_result"
    }
   ],
   "source": [
    "doc = nlp(text)\n",
    "noun_list = []\n",
    "for token in doc:\n",
    "    if token.pos_ == 'NOUN':\n",
    "        noun_list.append(token)\n",
    "noun_list[:10]"
   ]
  },
  {
   "cell_type": "code",
   "execution_count": 53,
   "id": "7b9aa5c0",
   "metadata": {},
   "outputs": [
    {
     "data": {
      "text/plain": [
       "[8.3, 8.1, 1982, 6.2, 6, â€, 0.3, 0.2, 0.6, 0.4]"
      ]
     },
     "execution_count": 53,
     "metadata": {},
     "output_type": "execute_result"
    }
   ],
   "source": [
    "doc = nlp(text)\n",
    "num_list = []\n",
    "for token in doc:\n",
    "    if token.pos_ == 'NUM':\n",
    "        num_list.append(token)\n",
    "num_list[:10]"
   ]
  },
  {
   "cell_type": "code",
   "execution_count": 54,
   "id": "ee281867",
   "metadata": {},
   "outputs": [
    {
     "data": {
      "text/plain": [
       "{92: 98,\n",
       " 100: 27,\n",
       " 86: 15,\n",
       " 85: 39,\n",
       " 96: 17,\n",
       " 97: 32,\n",
       " 90: 34,\n",
       " 95: 4,\n",
       " 87: 13,\n",
       " 89: 10,\n",
       " 84: 23,\n",
       " 103: 7,\n",
       " 93: 20,\n",
       " 94: 4,\n",
       " 98: 8,\n",
       " 101: 1}"
      ]
     },
     "execution_count": 54,
     "metadata": {},
     "output_type": "execute_result"
    }
   ],
   "source": [
    "count = doc.count_by(spacy.attrs.POS)\n",
    "count"
   ]
  },
  {
   "cell_type": "code",
   "execution_count": 57,
   "id": "0bad758b",
   "metadata": {},
   "outputs": [
    {
     "name": "stdout",
     "output_type": "stream",
     "text": [
      "NOUN  |  98\n",
      "VERB  |  27\n",
      "ADV  |  15\n",
      "ADP  |  39\n",
      "PROPN  |  17\n",
      "PUNCT  |  32\n",
      "DET  |  34\n",
      "PRON  |  4\n",
      "AUX  |  13\n",
      "CCONJ  |  10\n",
      "ADJ  |  23\n",
      "SPACE  |  7\n",
      "NUM  |  20\n",
      "PART  |  4\n",
      "SCONJ  |  8\n",
      "X  |  1\n"
     ]
    }
   ],
   "source": [
    "for k,v in count.items():\n",
    "    print(doc.vocab[k].text , \" | \", v)"
   ]
  }
 ],
 "metadata": {
  "kernelspec": {
   "display_name": "Python 3 (ipykernel)",
   "language": "python",
   "name": "python3"
  },
  "language_info": {
   "codemirror_mode": {
    "name": "ipython",
    "version": 3
   },
   "file_extension": ".py",
   "mimetype": "text/x-python",
   "name": "python",
   "nbconvert_exporter": "python",
   "pygments_lexer": "ipython3",
   "version": "3.11.5"
  }
 },
 "nbformat": 4,
 "nbformat_minor": 5
}
